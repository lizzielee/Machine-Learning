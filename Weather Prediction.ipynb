{
 "cells": [
  {
   "cell_type": "markdown",
   "metadata": {},
   "source": [
    "# Assignment 1: Comparison of Multivariate Linear Regression Models"
   ]
  },
  {
   "cell_type": "markdown",
   "metadata": {},
   "source": [
    "### CS 6316 Machine Learning - Department of Computer Science - University of Virginia\n",
    "*In this assignment, you will get to pick your favorite data set on Kaggle (https://kaggle.com) and implement some learning models in a context of a **regression** problem.  For references, you may refer to [my slides](https://docs.google.com/presentation/d/10D1he89peAWaFgjtZlHpUzvOOAie_vIFT95htKCKgc0/edit#slide=id.p) or Chapter 4 of the textbook if you need additional sample codes to help with your assignment. To get started, you will need to determine which dataset to download and copy it into the directory where you wish to run your implementation (ie. same folder as this file).* \n",
    "\n",
    "*For deliverables, you must write code in Python and submit **this** Jupyter Notebook file (.ipynb) to earn a total of 100 pts. You will gain points depending on how you perform in the following sections.*\n"
   ]
  },
  {
   "cell_type": "markdown",
   "metadata": {},
   "source": [
    "***\n",
    "## 1. BIG PICTURE (5 pts)\n",
    "Write a paragraph explaining the context of the problem in which you are trying to investigate. In the same paragraph, explain why you pick your dataset. Then, you MUST include the URL to the dataset to help the TA to download it (we will assume that the data file is put into the same folder as the Jupyter Notebook file). Then, you can write some code to load the CSV file and take a quick look at the dataset, and output the following:\n",
    "\n",
    " * How big is your dataset? (in terms of MB)\n",
    " * How many entries does it have?\n",
    " * How many features does it have?\n",
    " * What are some basic statistics you can learn right away about this dataset?"
   ]
  },
  {
   "cell_type": "markdown",
   "metadata": {},
   "source": [
    "According to the context of this dataset from Kaggle, this dataset represents weekly 2018 retail scan data for National retail volume (units) and prices. The Average Price (of avocados) reflects a per unit (per avocado) cost, even when multiple units are sold in bags. The numerical columns in the data stands for specific type of avocados, and it shows the total number of that type of avocados sold.\n",
    "\n",
    "I pick this dataset for following reasons:\n",
    "First, I really like avocados, and this dataset caught my eye at the first moment. \n",
    "Second, the dataset has a relatively clear subject, which is the price of avocados, and that makes it easier for me to determine which aspect to focus on. \n",
    "Third, this dataset has a proper size for a beginner like me. It’s neither too large for me to deal with, nor too small to make any sense.\n"
   ]
  },
  {
   "cell_type": "code",
   "execution_count": 25,
   "metadata": {},
   "outputs": [
    {
     "name": "stdout",
     "output_type": "stream",
     "text": [
      "<class 'pandas.core.frame.DataFrame'>\n",
      "RangeIndex: 96453 entries, 0 to 96452\n",
      "Data columns (total 12 columns):\n",
      "Formatted Date              96453 non-null object\n",
      "Summary                     96453 non-null object\n",
      "Precip Type                 95936 non-null object\n",
      "Temperature (C)             96453 non-null float64\n",
      "Apparent Temperature (C)    96453 non-null float64\n",
      "Humidity                    96453 non-null float64\n",
      "Wind Speed (km/h)           96453 non-null float64\n",
      "Wind Bearing (degrees)      96453 non-null float64\n",
      "Visibility (km)             96453 non-null float64\n",
      "Loud Cover                  96453 non-null float64\n",
      "Pressure (millibars)        96453 non-null float64\n",
      "Daily Summary               96453 non-null object\n",
      "dtypes: float64(8), object(4)\n",
      "memory usage: 8.8+ MB\n",
      "None\n"
     ]
    }
   ],
   "source": [
    "# Import some common packages\n",
    "import os\n",
    "import numpy as np\n",
    "import matplotlib\n",
    "import matplotlib.pyplot as plt\n",
    "import pandas as pd\n",
    "\n",
    "# to make this notebook's output stable across runs\n",
    "np.random.seed(42)\n",
    "\n",
    "# Your code goes here for this section, make sure you also include the output to answer the above questions.\n",
    "def load_avocado_data(avocado_path = '.'):\n",
    "    csv_path = os.path.join(avocado_path,\"weatherHistory.csv\")\n",
    "    return pd.read_csv(csv_path)\n",
    "\n",
    "# Take a quick look\n",
    "avocado = load_avocado_data()\n",
    "#avocado.rename(columns={avocado.columns[0]:\"Number\"}, inplace = True)\n",
    "print(avocado.info())\n",
    "\n",
    "#datasetURL = \"https://www.kaggle.com/budincsevity/szeged-weather\"; # required url to download for CSV file. The TA will download and run your program.\n"
   ]
  },
  {
   "cell_type": "code",
   "execution_count": 26,
   "metadata": {},
   "outputs": [
    {
     "data": {
      "text/html": [
       "<div>\n",
       "<style scoped>\n",
       "    .dataframe tbody tr th:only-of-type {\n",
       "        vertical-align: middle;\n",
       "    }\n",
       "\n",
       "    .dataframe tbody tr th {\n",
       "        vertical-align: top;\n",
       "    }\n",
       "\n",
       "    .dataframe thead th {\n",
       "        text-align: right;\n",
       "    }\n",
       "</style>\n",
       "<table border=\"1\" class=\"dataframe\">\n",
       "  <thead>\n",
       "    <tr style=\"text-align: right;\">\n",
       "      <th></th>\n",
       "      <th>Formatted Date</th>\n",
       "      <th>Summary</th>\n",
       "      <th>Precip Type</th>\n",
       "      <th>Temperature (C)</th>\n",
       "      <th>Apparent Temperature (C)</th>\n",
       "      <th>Humidity</th>\n",
       "      <th>Wind Speed (km/h)</th>\n",
       "      <th>Wind Bearing (degrees)</th>\n",
       "      <th>Visibility (km)</th>\n",
       "      <th>Loud Cover</th>\n",
       "      <th>Pressure (millibars)</th>\n",
       "      <th>Daily Summary</th>\n",
       "    </tr>\n",
       "  </thead>\n",
       "  <tbody>\n",
       "    <tr>\n",
       "      <th>0</th>\n",
       "      <td>2006-04-01 00:00:00.000 +0200</td>\n",
       "      <td>Partly Cloudy</td>\n",
       "      <td>rain</td>\n",
       "      <td>9.472222</td>\n",
       "      <td>7.388889</td>\n",
       "      <td>0.89</td>\n",
       "      <td>14.1197</td>\n",
       "      <td>251.0</td>\n",
       "      <td>15.8263</td>\n",
       "      <td>0.0</td>\n",
       "      <td>1015.13</td>\n",
       "      <td>Partly cloudy throughout the day.</td>\n",
       "    </tr>\n",
       "    <tr>\n",
       "      <th>1</th>\n",
       "      <td>2006-04-01 01:00:00.000 +0200</td>\n",
       "      <td>Partly Cloudy</td>\n",
       "      <td>rain</td>\n",
       "      <td>9.355556</td>\n",
       "      <td>7.227778</td>\n",
       "      <td>0.86</td>\n",
       "      <td>14.2646</td>\n",
       "      <td>259.0</td>\n",
       "      <td>15.8263</td>\n",
       "      <td>0.0</td>\n",
       "      <td>1015.63</td>\n",
       "      <td>Partly cloudy throughout the day.</td>\n",
       "    </tr>\n",
       "    <tr>\n",
       "      <th>2</th>\n",
       "      <td>2006-04-01 02:00:00.000 +0200</td>\n",
       "      <td>Mostly Cloudy</td>\n",
       "      <td>rain</td>\n",
       "      <td>9.377778</td>\n",
       "      <td>9.377778</td>\n",
       "      <td>0.89</td>\n",
       "      <td>3.9284</td>\n",
       "      <td>204.0</td>\n",
       "      <td>14.9569</td>\n",
       "      <td>0.0</td>\n",
       "      <td>1015.94</td>\n",
       "      <td>Partly cloudy throughout the day.</td>\n",
       "    </tr>\n",
       "    <tr>\n",
       "      <th>3</th>\n",
       "      <td>2006-04-01 03:00:00.000 +0200</td>\n",
       "      <td>Partly Cloudy</td>\n",
       "      <td>rain</td>\n",
       "      <td>8.288889</td>\n",
       "      <td>5.944444</td>\n",
       "      <td>0.83</td>\n",
       "      <td>14.1036</td>\n",
       "      <td>269.0</td>\n",
       "      <td>15.8263</td>\n",
       "      <td>0.0</td>\n",
       "      <td>1016.41</td>\n",
       "      <td>Partly cloudy throughout the day.</td>\n",
       "    </tr>\n",
       "    <tr>\n",
       "      <th>4</th>\n",
       "      <td>2006-04-01 04:00:00.000 +0200</td>\n",
       "      <td>Mostly Cloudy</td>\n",
       "      <td>rain</td>\n",
       "      <td>8.755556</td>\n",
       "      <td>6.977778</td>\n",
       "      <td>0.83</td>\n",
       "      <td>11.0446</td>\n",
       "      <td>259.0</td>\n",
       "      <td>15.8263</td>\n",
       "      <td>0.0</td>\n",
       "      <td>1016.51</td>\n",
       "      <td>Partly cloudy throughout the day.</td>\n",
       "    </tr>\n",
       "    <tr>\n",
       "      <th>5</th>\n",
       "      <td>2006-04-01 05:00:00.000 +0200</td>\n",
       "      <td>Partly Cloudy</td>\n",
       "      <td>rain</td>\n",
       "      <td>9.222222</td>\n",
       "      <td>7.111111</td>\n",
       "      <td>0.85</td>\n",
       "      <td>13.9587</td>\n",
       "      <td>258.0</td>\n",
       "      <td>14.9569</td>\n",
       "      <td>0.0</td>\n",
       "      <td>1016.66</td>\n",
       "      <td>Partly cloudy throughout the day.</td>\n",
       "    </tr>\n",
       "    <tr>\n",
       "      <th>6</th>\n",
       "      <td>2006-04-01 06:00:00.000 +0200</td>\n",
       "      <td>Partly Cloudy</td>\n",
       "      <td>rain</td>\n",
       "      <td>7.733333</td>\n",
       "      <td>5.522222</td>\n",
       "      <td>0.95</td>\n",
       "      <td>12.3648</td>\n",
       "      <td>259.0</td>\n",
       "      <td>9.9820</td>\n",
       "      <td>0.0</td>\n",
       "      <td>1016.72</td>\n",
       "      <td>Partly cloudy throughout the day.</td>\n",
       "    </tr>\n",
       "    <tr>\n",
       "      <th>7</th>\n",
       "      <td>2006-04-01 07:00:00.000 +0200</td>\n",
       "      <td>Partly Cloudy</td>\n",
       "      <td>rain</td>\n",
       "      <td>8.772222</td>\n",
       "      <td>6.527778</td>\n",
       "      <td>0.89</td>\n",
       "      <td>14.1519</td>\n",
       "      <td>260.0</td>\n",
       "      <td>9.9820</td>\n",
       "      <td>0.0</td>\n",
       "      <td>1016.84</td>\n",
       "      <td>Partly cloudy throughout the day.</td>\n",
       "    </tr>\n",
       "  </tbody>\n",
       "</table>\n",
       "</div>"
      ],
      "text/plain": [
       "                  Formatted Date        Summary Precip Type  Temperature (C)  \\\n",
       "0  2006-04-01 00:00:00.000 +0200  Partly Cloudy        rain         9.472222   \n",
       "1  2006-04-01 01:00:00.000 +0200  Partly Cloudy        rain         9.355556   \n",
       "2  2006-04-01 02:00:00.000 +0200  Mostly Cloudy        rain         9.377778   \n",
       "3  2006-04-01 03:00:00.000 +0200  Partly Cloudy        rain         8.288889   \n",
       "4  2006-04-01 04:00:00.000 +0200  Mostly Cloudy        rain         8.755556   \n",
       "5  2006-04-01 05:00:00.000 +0200  Partly Cloudy        rain         9.222222   \n",
       "6  2006-04-01 06:00:00.000 +0200  Partly Cloudy        rain         7.733333   \n",
       "7  2006-04-01 07:00:00.000 +0200  Partly Cloudy        rain         8.772222   \n",
       "\n",
       "   Apparent Temperature (C)  Humidity  Wind Speed (km/h)  \\\n",
       "0                  7.388889      0.89            14.1197   \n",
       "1                  7.227778      0.86            14.2646   \n",
       "2                  9.377778      0.89             3.9284   \n",
       "3                  5.944444      0.83            14.1036   \n",
       "4                  6.977778      0.83            11.0446   \n",
       "5                  7.111111      0.85            13.9587   \n",
       "6                  5.522222      0.95            12.3648   \n",
       "7                  6.527778      0.89            14.1519   \n",
       "\n",
       "   Wind Bearing (degrees)  Visibility (km)  Loud Cover  Pressure (millibars)  \\\n",
       "0                   251.0          15.8263         0.0               1015.13   \n",
       "1                   259.0          15.8263         0.0               1015.63   \n",
       "2                   204.0          14.9569         0.0               1015.94   \n",
       "3                   269.0          15.8263         0.0               1016.41   \n",
       "4                   259.0          15.8263         0.0               1016.51   \n",
       "5                   258.0          14.9569         0.0               1016.66   \n",
       "6                   259.0           9.9820         0.0               1016.72   \n",
       "7                   260.0           9.9820         0.0               1016.84   \n",
       "\n",
       "                       Daily Summary  \n",
       "0  Partly cloudy throughout the day.  \n",
       "1  Partly cloudy throughout the day.  \n",
       "2  Partly cloudy throughout the day.  \n",
       "3  Partly cloudy throughout the day.  \n",
       "4  Partly cloudy throughout the day.  \n",
       "5  Partly cloudy throughout the day.  \n",
       "6  Partly cloudy throughout the day.  \n",
       "7  Partly cloudy throughout the day.  "
      ]
     },
     "execution_count": 26,
     "metadata": {},
     "output_type": "execute_result"
    }
   ],
   "source": [
    "avocado.head(8)"
   ]
  },
  {
   "cell_type": "code",
   "execution_count": 27,
   "metadata": {},
   "outputs": [],
   "source": [
    "# to make this notebook's output stable across runs\n",
    "np.random.seed(42)"
   ]
  },
  {
   "cell_type": "code",
   "execution_count": 28,
   "metadata": {},
   "outputs": [
    {
     "data": {
      "text/plain": [
       "Formatted Date                0\n",
       "Summary                       0\n",
       "Precip Type                 517\n",
       "Temperature (C)               0\n",
       "Apparent Temperature (C)      0\n",
       "Humidity                      0\n",
       "Wind Speed (km/h)             0\n",
       "Wind Bearing (degrees)        0\n",
       "Visibility (km)               0\n",
       "Loud Cover                    0\n",
       "Pressure (millibars)          0\n",
       "Daily Summary                 0\n",
       "dtype: int64"
      ]
     },
     "execution_count": 28,
     "metadata": {},
     "output_type": "execute_result"
    }
   ],
   "source": [
    "# Find empty data\n",
    "avocado.isnull().sum()"
   ]
  },
  {
   "cell_type": "code",
   "execution_count": 29,
   "metadata": {},
   "outputs": [],
   "source": [
    "# Drop empty data\n",
    "avocado = avocado.dropna()"
   ]
  },
  {
   "cell_type": "code",
   "execution_count": 30,
   "metadata": {},
   "outputs": [],
   "source": [
    "# Drop unnecessary data\n",
    "avocado1 = avocado.drop([\"Daily Summary\", \"Formatted Date\", \"Precip Type\"], axis = 1)"
   ]
  },
  {
   "cell_type": "code",
   "execution_count": 31,
   "metadata": {},
   "outputs": [
    {
     "data": {
      "text/plain": [
       "{'Breezy': Int64Index([ 7180,  8268, 11012, 11918, 11927, 11952, 11954, 12121, 12143,\n",
       "             12144, 12239, 12805, 15410, 20931, 20932, 22657, 30183, 31637,\n",
       "             31778, 31784, 32038, 32424, 36579, 36580, 43947, 45034, 45035,\n",
       "             53776, 53777, 55227, 58293, 63683, 71915, 71936, 72116, 72117,\n",
       "             72119, 72120, 72122, 72123, 72125, 72126, 72131, 75956, 75959,\n",
       "             82398, 82404, 82406, 82409, 82410, 82412, 82422, 87082, 89023],\n",
       "            dtype='int64'),\n",
       " 'Breezy and Dry': Int64Index([57947], dtype='int64'),\n",
       " 'Breezy and Foggy': Int64Index([ 5191,  5192,  5193,  5194,  5195,  5196,  5200, 38501, 41096,\n",
       "             54782, 54783, 54784, 54785, 54786, 54787, 54789, 54791, 54792,\n",
       "             54793, 54794, 54795, 54796, 54797, 66621, 66622, 66623, 66624,\n",
       "             66822, 66823, 66824, 66825, 66826, 67293, 74905, 81758],\n",
       "            dtype='int64'),\n",
       " 'Breezy and Mostly Cloudy': Int64Index([   80,    81,  1312,  3233,  3235,  3980,  5172,  5173,  5174,\n",
       "              5604,\n",
       "             ...\n",
       "             87806, 87811, 90444, 92259, 92464, 92795, 93633, 93635, 93655,\n",
       "             95940],\n",
       "            dtype='int64', length=516),\n",
       " 'Breezy and Overcast': Int64Index([ 1306,  1311,  1703,  3129,  3234,  3238,  3240,  4748,  5161,\n",
       "              5175,\n",
       "             ...\n",
       "             92904, 93433, 93436, 93656, 93679, 93683, 93685, 94146, 95612,\n",
       "             96343],\n",
       "            dtype='int64', length=528),\n",
       " 'Breezy and Partly Cloudy': Int64Index([ 1032,  5504,  5602,  5603,  5607,  5610,  5613,  6297,  6298,\n",
       "              6303,\n",
       "             ...\n",
       "             87854, 88432, 89888, 92908, 92909, 92910, 92911, 92912, 93631,\n",
       "             93634],\n",
       "            dtype='int64', length=386),\n",
       " 'Clear': Int64Index([  223,   309,   337,   338,   357,   358,   359,   360,   361,\n",
       "               363,\n",
       "             ...\n",
       "             96358, 96359, 96405, 96430, 96431, 96432, 96433, 96434, 96435,\n",
       "             96436],\n",
       "            dtype='int64', length=10763),\n",
       " 'Dangerously Windy and Partly Cloudy': Int64Index([12181], dtype='int64'),\n",
       " 'Drizzle': Int64Index([52690, 52741, 52743, 52816, 58911, 95063, 95064, 95065, 95066,\n",
       "             95067, 95083, 95151, 95152, 95153, 95154, 95155, 95156, 95157,\n",
       "             95158, 95159, 95160, 95161, 95162, 95163, 95164, 95165, 95166,\n",
       "             95167, 95299, 95300, 95301, 95303, 95304, 95305, 95306, 95307,\n",
       "             95333, 95433, 95434],\n",
       "            dtype='int64'),\n",
       " 'Dry': Int64Index([12706, 12707, 12714, 12715, 12754, 12755, 12756, 12757, 12802,\n",
       "             12803, 12804, 12850, 12875, 12876, 26250, 26268, 26271, 27013,\n",
       "             27371, 53626, 53748, 57923, 57924, 57925, 57926, 57927, 57928,\n",
       "             57929, 57948, 58047, 58094, 58140, 58141, 70098],\n",
       "            dtype='int64'),\n",
       " 'Dry and Mostly Cloudy': Int64Index([53918, 53920, 53922, 53923, 53924, 57952, 57953, 58118, 60566,\n",
       "             60567, 60568, 60762, 61141, 61142],\n",
       "            dtype='int64'),\n",
       " 'Dry and Partly Cloudy': Int64Index([ 9157,  9160,  9161,  9162, 12738, 12739, 12762, 12763, 12764,\n",
       "             18428, 18432, 26244, 26248, 26272, 27037, 27394, 27395, 27396,\n",
       "             30442, 30825, 30826, 31243, 31353, 31354, 34238, 34239, 34240,\n",
       "             34241, 34264, 34765, 34768, 45131, 45132, 51683, 51758, 51759,\n",
       "             51760, 52404, 52405, 53458, 53651, 53658, 53675, 53676, 53730,\n",
       "             53731, 53754, 53843, 53914, 53915, 53916, 53917, 57949, 57950,\n",
       "             57951, 58068, 58071, 58072, 58091, 58092, 58093, 58095, 58096,\n",
       "             58097, 58119, 58121, 58142, 58143, 58144, 58145, 60756, 61339,\n",
       "             61787, 62292, 62802, 69400, 70115, 70116, 70117, 75563, 75585,\n",
       "             75586, 75587, 75588, 79664, 79665],\n",
       "            dtype='int64'),\n",
       " 'Foggy': Int64Index([   66,    67,    72,    73,   126,   222,   242,   289,   291,\n",
       "               292,\n",
       "             ...\n",
       "             95519, 95520, 95522, 95523, 95714, 95858, 95859, 95860, 95907,\n",
       "             96228],\n",
       "            dtype='int64', length=7117),\n",
       " 'Humid and Mostly Cloudy': Int64Index([ 1334,  3636,  3638,  3905,  3907,  4888, 22552, 29970, 30187,\n",
       "             36302, 36470, 39107, 39109, 39258, 39307, 39684, 43818, 56655,\n",
       "             56656, 56657, 62560, 62608, 62609, 62610, 65709, 66158, 66159,\n",
       "             67887, 71154, 71514, 71515, 74484, 88596, 91763, 91764, 91765,\n",
       "             91766, 91767, 91770, 92150],\n",
       "            dtype='int64'),\n",
       " 'Humid and Overcast': Int64Index([36469, 56654, 62559, 67886, 74241, 91762, 92319], dtype='int64'),\n",
       " 'Humid and Partly Cloudy': Int64Index([ 3903,  3904,  4938, 22551, 27712, 29971, 31264, 39111, 39184,\n",
       "             39354, 39685, 39690, 44847, 48783, 48785, 62563, 66160],\n",
       "            dtype='int64'),\n",
       " 'Light Rain': Int64Index([52689, 52728, 52729, 52731, 52732, 52734, 52737, 52738, 52744,\n",
       "             52804, 52806, 52807, 52809, 52810, 52812, 52813, 58878, 95068,\n",
       "             95069, 95070, 95071, 95072, 95073, 95074, 95075, 95076, 95077,\n",
       "             95078, 95079, 95080, 95081, 95082, 95302, 95308, 95309, 95310,\n",
       "             95311, 95312, 95313, 95314, 95315, 95316, 95317, 95318, 95319,\n",
       "             95320, 95321, 95322, 95327, 95328, 95329, 95330, 95331, 95332,\n",
       "             95418, 95419, 95420, 95421, 95422, 95423, 95430, 95431, 95432],\n",
       "            dtype='int64'),\n",
       " 'Mostly Cloudy': Int64Index([    2,     4,    17,    18,    19,    20,    21,    23,    26,\n",
       "                30,\n",
       "             ...\n",
       "             96385, 96386, 96387, 96410, 96411, 96412, 96413, 96415, 96416,\n",
       "             96426],\n",
       "            dtype='int64', length=27914),\n",
       " 'Overcast': Int64Index([   46,    47,    48,    49,    50,    51,    52,    53,    65,\n",
       "                68,\n",
       "             ...\n",
       "             96340, 96341, 96342, 96344, 96345, 96346, 96347, 96348, 96381,\n",
       "             96382],\n",
       "            dtype='int64', length=16516),\n",
       " 'Partly Cloudy': Int64Index([    0,     1,     3,     5,     6,     7,     8,     9,    10,\n",
       "                11,\n",
       "             ...\n",
       "             96443, 96444, 96445, 96446, 96447, 96448, 96449, 96450, 96451,\n",
       "             96452],\n",
       "            dtype='int64', length=31635),\n",
       " 'Rain': Int64Index([95323, 95324, 95325, 95326, 95424, 95425, 95426, 95427, 95428,\n",
       "             95429],\n",
       "            dtype='int64'),\n",
       " 'Windy': Int64Index([20930, 31640, 31644, 43944, 71942, 82400, 82401, 82403], dtype='int64'),\n",
       " 'Windy and Dry': Int64Index([53124], dtype='int64'),\n",
       " 'Windy and Foggy': Int64Index([4338, 5190, 67437, 84861], dtype='int64'),\n",
       " 'Windy and Mostly Cloudy': Int64Index([11005, 11909, 12180, 20913, 20914, 20917, 20926, 27800, 27801,\n",
       "             31645, 31788, 32058, 32122, 43143, 43942, 44536, 44551, 44552,\n",
       "             46138, 49139, 49140, 57786, 58287, 58559, 60396, 64883, 64884,\n",
       "             75417, 75427, 75428, 75440, 79448, 82355, 82356, 85409],\n",
       "            dtype='int64'),\n",
       " 'Windy and Overcast': Int64Index([ 5183,  5184,  5187,  5189, 11906, 20915, 20916, 21101, 27798,\n",
       "             28137, 31787, 33722, 33723, 33725, 33726, 33729, 33731, 37284,\n",
       "             37286, 37758, 37759, 37760, 37761, 41120, 41126, 44529, 44530,\n",
       "             44531, 44532, 44533, 44534, 58238, 59217, 63987, 64410, 66717,\n",
       "             66718, 66816, 75398, 75400, 77786, 79194, 79818, 82361, 82362],\n",
       "            dtype='int64'),\n",
       " 'Windy and Partly Cloudy': Int64Index([ 5608,  5609, 11001, 11002, 11003, 11004, 11006, 11007, 11009,\n",
       "             11508, 11749, 11751, 12178, 12179, 12182, 12183, 12184, 14479,\n",
       "             14480, 14482, 14778, 15393, 19379, 19380, 20918, 20924, 20925,\n",
       "             20927, 20928, 23047, 23048, 26818, 26819, 31641, 31642, 31643,\n",
       "             31646, 31832, 31833, 40308, 44550, 44553, 44554, 44557, 44558,\n",
       "             44559, 44560, 55644, 58281, 58283, 63539, 63540, 63542, 64859,\n",
       "             64860, 66719, 71941, 75438, 75439, 75441, 75442, 79453, 79567,\n",
       "             84535, 84536, 84537, 84780],\n",
       "            dtype='int64')}"
      ]
     },
     "execution_count": 31,
     "metadata": {},
     "output_type": "execute_result"
    }
   ],
   "source": [
    "avocado.groupby('Summary').groups"
   ]
  },
  {
   "cell_type": "markdown",
   "metadata": {},
   "source": [
    "Since whether it is cloudy, windy or foggy will obviously affect the weather condition, we should keep the 'Summary' feature."
   ]
  },
  {
   "cell_type": "markdown",
   "metadata": {},
   "source": [
    "---\n",
    "## 2. DATA DISCOVERY, CLEANING, AND SCALING (10 pts)\n",
    "\n",
    "**Data Discover:** Plot out all correlations among the features. You may notice some features are more correlated with your predicted value than other. This information will help you confirm that weights of your regression model later on.\n",
    "\n",
    "**Data Cleaning:** If your dataset has some missing values, make sure you are able to fill those values with the Imputer class. If your dataset has categorical features, make sure you conver those features into numerical using OneHotEncoder class. \n",
    "\n",
    "**Feature Scaling** More importantly, your task is to write some codes to normalize the value of each features as follow:\n",
    "\n",
    "* Subtract the mean value of each feature from the dataset\n",
    "* Scale (divide) the feature values by their respective standard deviation\n",
    "\n",
    "Implementation Note: You will do this for all features and your code should work with datasets of all sizes (any number of features/ examples). After learning the parameters from the model, you must first normalize the new $x$ value using the mean and standard deviation that you have previously computed from the training set."
   ]
  },
  {
   "cell_type": "code",
   "execution_count": 32,
   "metadata": {},
   "outputs": [
    {
     "data": {
      "image/png": "[encoded data removed]",
      "text/plain": [
       "<Figure size 1440x1080 with 9 Axes>"
      ]
     },
     "metadata": {
      "needs_background": "light"
     },
     "output_type": "display_data"
    }
   ],
   "source": [
    "# You might want to use the following package\n",
    "from sklearn.model_selection import train_test_split\n",
    "from pandas.plotting import scatter_matrix # optional\n",
    "from sklearn.preprocessing import Imputer\n",
    "from sklearn.preprocessing import LabelEncoder\n",
    "from sklearn.preprocessing import OneHotEncoder\n",
    "from sklearn.pipeline import Pipeline\n",
    "from sklearn.preprocessing import StandardScaler\n",
    "from sklearn.pipeline import FeatureUnion\n",
    "from sklearn.base import BaseEstimator, TransformerMixin\n",
    "from sklearn.base import TransformerMixin #gives fit_transform method for free\n",
    "\n",
    "# Your code goes here for this section.\n",
    "\n",
    "%matplotlib inline\n",
    "avocado.hist(bins = 10, figsize = (20,15))\n",
    "plt.show()\n",
    "\n"
   ]
  },
  {
   "cell_type": "code",
   "execution_count": 33,
   "metadata": {
    "scrolled": true
   },
   "outputs": [
    {
     "data": {
      "text/plain": [
       "Visibility (km)             1.000000\n",
       "Temperature (C)             0.393719\n",
       "Apparent Temperature (C)    0.382589\n",
       "Wind Speed (km/h)           0.100801\n",
       "Pressure (millibars)        0.061011\n",
       "Wind Bearing (degrees)      0.048900\n",
       "Humidity                   -0.370511\n",
       "Loud Cover                       NaN\n",
       "Name: Visibility (km), dtype: float64"
      ]
     },
     "execution_count": 33,
     "metadata": {},
     "output_type": "execute_result"
    }
   ],
   "source": [
    "# Check corrolation\n",
    "corr_matrix =avocado1.corr()\n",
    "corr_matrix[\"Visibility (km)\"].sort_values(ascending = False)"
   ]
  },
  {
   "cell_type": "markdown",
   "metadata": {},
   "source": [
    "Data Cleaning - Handling Categorical Attributes\n",
    "In this case, the categorical attribute that needs to be handled is the 'Precip Type' feature."
   ]
  },
  {
   "cell_type": "code",
   "execution_count": 47,
   "metadata": {},
   "outputs": [
    {
     "data": {
      "text/plain": [
       "Partly Cloudy                          31635\n",
       "Mostly Cloudy                          27914\n",
       "Overcast                               16516\n",
       "Clear                                  10763\n",
       "Foggy                                   7117\n",
       "Breezy and Overcast                      528\n",
       "Breezy and Mostly Cloudy                 516\n",
       "Breezy and Partly Cloudy                 386\n",
       "Dry and Partly Cloudy                     86\n",
       "Windy and Partly Cloudy                   67\n",
       "Light Rain                                63\n",
       "Breezy                                    54\n",
       "Windy and Overcast                        45\n",
       "Humid and Mostly Cloudy                   40\n",
       "Drizzle                                   39\n",
       "Windy and Mostly Cloudy                   35\n",
       "Breezy and Foggy                          35\n",
       "Dry                                       34\n",
       "Humid and Partly Cloudy                   17\n",
       "Dry and Mostly Cloudy                     14\n",
       "Rain                                      10\n",
       "Windy                                      8\n",
       "Humid and Overcast                         7\n",
       "Windy and Foggy                            4\n",
       "Windy and Dry                              1\n",
       "Breezy and Dry                             1\n",
       "Dangerously Windy and Partly Cloudy        1\n",
       "Name: Summary, dtype: int64"
      ]
     },
     "execution_count": 47,
     "metadata": {},
     "output_type": "execute_result"
    }
   ],
   "source": [
    "# calculate each type's total number of Summary\n",
    "result = pd.value_counts(avocado[\"Summary\"])\n",
    "result"
   ]
  },
  {
   "cell_type": "code",
   "execution_count": 34,
   "metadata": {},
   "outputs": [
    {
     "data": {
      "text/plain": [
       "array([19, 19, 17, ..., 19, 19, 19])"
      ]
     },
     "execution_count": 34,
     "metadata": {},
     "output_type": "execute_result"
    }
   ],
   "source": [
    "from sklearn.preprocessing import LabelEncoder\n",
    "encoder = LabelEncoder()\n",
    "avocado1_cat = avocado1[\"Summary\"]\n",
    "avocado1_cat_encoded = encoder.fit_transform(avocado1_cat)\n",
    "avocado1_cat_encoded"
   ]
  },
  {
   "cell_type": "code",
   "execution_count": 35,
   "metadata": {},
   "outputs": [
    {
     "name": "stdout",
     "output_type": "stream",
     "text": [
      "['Breezy' 'Breezy and Dry' 'Breezy and Foggy' 'Breezy and Mostly Cloudy'\n",
      " 'Breezy and Overcast' 'Breezy and Partly Cloudy' 'Clear'\n",
      " 'Dangerously Windy and Partly Cloudy' 'Drizzle' 'Dry'\n",
      " 'Dry and Mostly Cloudy' 'Dry and Partly Cloudy' 'Foggy'\n",
      " 'Humid and Mostly Cloudy' 'Humid and Overcast' 'Humid and Partly Cloudy'\n",
      " 'Light Rain' 'Mostly Cloudy' 'Overcast' 'Partly Cloudy' 'Rain' 'Windy'\n",
      " 'Windy and Dry' 'Windy and Foggy' 'Windy and Mostly Cloudy'\n",
      " 'Windy and Overcast' 'Windy and Partly Cloudy']\n"
     ]
    }
   ],
   "source": [
    "print(encoder.classes_)"
   ]
  },
  {
   "cell_type": "code",
   "execution_count": 36,
   "metadata": {},
   "outputs": [
    {
     "data": {
      "text/plain": [
       "array([[0., 0., 0., ..., 0., 0., 0.],\n",
       "       [0., 0., 0., ..., 0., 0., 0.],\n",
       "       [0., 0., 0., ..., 0., 0., 0.],\n",
       "       ...,\n",
       "       [0., 0., 0., ..., 0., 0., 0.],\n",
       "       [0., 0., 0., ..., 0., 0., 0.],\n",
       "       [0., 0., 0., ..., 0., 0., 0.]])"
      ]
     },
     "execution_count": 36,
     "metadata": {},
     "output_type": "execute_result"
    }
   ],
   "source": [
    "from sklearn.preprocessing import OneHotEncoder\n",
    "encoder = OneHotEncoder()\n",
    "avocado1_cat_1hot = encoder.fit_transform(avocado1_cat_encoded.reshape(-1,1))\n",
    "avocado1_cat_1hot.toarray()"
   ]
  },
  {
   "cell_type": "markdown",
   "metadata": {},
   "source": [
    "Feature Scaling"
   ]
  },
  {
   "cell_type": "code",
   "execution_count": 37,
   "metadata": {},
   "outputs": [],
   "source": [
    "# Split X and y\n",
    "from sklearn.model_selection import train_test_split\n",
    "\n",
    "avocado1_1 = avocado1.copy() #.drop(['Number','type', 'Date'], axis = 1)\n",
    "\n",
    "X = avocado1_1.drop(\"Visibility (km)\", axis = 1)\n",
    "y = avocado1_1[\"Visibility (km)\"]"
   ]
  },
  {
   "cell_type": "code",
   "execution_count": 38,
   "metadata": {},
   "outputs": [],
   "source": [
    "avocado1_labels = avocado1_1['Summary']\n",
    "avocado1_num = X.drop('Summary', axis = 1)"
   ]
  },
  {
   "cell_type": "code",
   "execution_count": 39,
   "metadata": {},
   "outputs": [],
   "source": [
    "from sklearn.preprocessing import LabelBinarizer\n",
    "\n",
    "class MyLabelBinarizer(TransformerMixin):\n",
    "    def __init__(self, *args, **kwargs):\n",
    "        self.encoder = LabelBinarizer(*args, **kwargs)\n",
    "    def fit(self, x, y=0):\n",
    "        self.encoder.fit(x)\n",
    "        return self\n",
    "    def transform(self, x, y=0):\n",
    "        return self.encoder.transform(x)\n",
    "    \n",
    "class DataFrameSelector(BaseEstimator, TransformerMixin): \n",
    "    def __init__(self, attribute_names):\n",
    "          self.attribute_names = attribute_names \n",
    "    def fit(self, X, y=None):\n",
    "        return self\n",
    "    def transform(self, X):\n",
    "        return X[self.attribute_names].values\n",
    "\n",
    "scaler = StandardScaler() \n",
    " \n",
    "num_attribs = list(avocado1_num)\n",
    "#cat_attribs1 = [\"Formatted Date\"]\n",
    "#cat_attribs2 = [\"Summary\"]\n",
    "cat_attribs3 = [\"Summary\"]\n",
    "\n",
    "num_pipeline = Pipeline([\n",
    "    ('selector', DataFrameSelector(num_attribs)),\n",
    "    ('std_scaler', StandardScaler()),\n",
    "])\n",
    "\n",
    "cat_pipeline3 = Pipeline([\n",
    "    ('selector', DataFrameSelector(cat_attribs3)), \n",
    "    ('label_binarizer', MyLabelBinarizer()),\n",
    "])\n",
    "\n",
    "full_pipeline = FeatureUnion(transformer_list=[\n",
    "    (\"num_pipeline\", num_pipeline),\n",
    "    (\"cat_pipeline3\", cat_pipeline3)\n",
    "])\n"
   ]
  },
  {
   "cell_type": "code",
   "execution_count": 40,
   "metadata": {},
   "outputs": [
    {
     "data": {
      "text/plain": [
       "array([[-0.35721335, -0.44228561, -0.07582618, ...,  0.        ,\n",
       "         0.        ,  0.        ],\n",
       "       [ 1.84628937,  1.73167697, -1.60860387, ...,  0.        ,\n",
       "         0.        ,  0.        ],\n",
       "       [-1.00793162, -0.96270965,  0.58837748, ...,  0.        ,\n",
       "         0.        ,  0.        ],\n",
       "       ...,\n",
       "       [-0.54180604, -0.58120358,  0.84384043, ...,  0.        ,\n",
       "         0.        ,  0.        ],\n",
       "       [ 0.75440618,  0.77428334,  0.43509971, ...,  0.        ,\n",
       "         0.        ,  0.        ],\n",
       "       [-0.72523777, -0.78025023,  0.84384043, ...,  0.        ,\n",
       "         0.        ,  0.        ]])"
      ]
     },
     "execution_count": 40,
     "metadata": {},
     "output_type": "execute_result"
    }
   ],
   "source": [
    "# Apply Pipeline\n",
    "a1_p = full_pipeline.fit_transform(X)\n",
    "\n",
    "# Split train and test sets\n",
    "X_train, X_test, y_train, y_test = train_test_split(a1_p, y, test_size = 0.3, random_state = 42)\n",
    "\n",
    "# Rearrange data index\n",
    "y_train.index = range(len(y_train))\n",
    "y_test.index = range(len(y_test))\n",
    "\n",
    "X_train"
   ]
  },
  {
   "cell_type": "markdown",
   "metadata": {},
   "source": [
    "- - -\n",
    "## 3. IMPLEMENTATION OF GRADIENT DESCENT (45 pts)\n",
    "The gradient descent formulation remain the same as one in the lecture. You should write code to implement the **MyLinearRegression** class and its predefined methods:\n",
    "\n",
    "* **Gradient Descent:** Notes that you may NOT call the library linear regression which defeats the purpose of this assignment. Make sure your code supports any number of features and is well-vectorized."
   ]
  },
  {
   "cell_type": "code",
   "execution_count": 41,
   "metadata": {},
   "outputs": [],
   "source": [
    "# NOTE: You may not use the library Linear Regression, but implement your own!\n",
    "# REMEMBER to place self.attribute = 0 with value from your implementation\n",
    "from numpy.linalg import inv\n",
    "from numpy.linalg import pinv\n",
    "\n",
    "class MyLinearRegression:\n",
    "    def __int__ (self):\n",
    "        self.theta = np.random.random(size = X_train.shape[1]) # parameter vector;\n",
    "        self.alpha = alpha; # learning rate\n",
    "        #self.beta = beta\n",
    "        self.cost  = 0; # cost function\n",
    "  \n",
    "    def fitUsingGradientDescent(self, X_train, y_train):\n",
    "        # implementation code here\n",
    "        self.theta = np.random.random(size = X_train.shape[1])\n",
    "        self.alpha = alpha\n",
    "       #self.beta = beta\n",
    "        self.iters = iters\n",
    "        gd_reg = self.gradientDescent(X_train, y_train, self.theta, self.alpha, self.iters)\n",
    "        return gd_reg\n",
    "    \n",
    "    def gradientDescent(self, X_train, y_train, theta, alpha, iters):\n",
    "        # INPUT:\n",
    "        # alpha: the learning rate\n",
    "        # iters: number of iterations\n",
    "        # \n",
    "        # OUTPUT: \n",
    "        # theta: updated value for theta\n",
    "        # cost: value of the cost function\n",
    "        #\n",
    "        # implementation code here\n",
    "        self.theta = theta\n",
    "        self.cost = 0\n",
    "        self.iters = iters\n",
    "        #self.beta = beta\n",
    "        X_train = np.c_[np.ones((len(X_train),1)), X_train]\n",
    "        num_parameters = X_train.shape[0]   # dim theta\n",
    "        num_p1 = X_train.shape[1]\n",
    "        theta = np.random.random(size = num_p1)\n",
    "        cost = [0.0 for i in range(iters)]\n",
    "        for i in range(iters):\n",
    "            cost[i] = self.computeCostFunc(X_train, y_train, theta)\n",
    "            for k in range(num_p1):\n",
    "                for j in range (num_parameters):\n",
    "                    #compute gradients for theta update\n",
    "                    gradients = 2/num_parameters * X_train[j].T.dot(X_train[j].dot(theta[k]) - y_train[j]) #+ 2*beta*theta[k]  \n",
    "                    theta[k] = theta[k] - alpha * gradients  #update theta\n",
    "        return theta, cost\n",
    "    \n",
    "    def computeCostFunc(self, X_train, y_train, theta): \n",
    "        # compute the cost function \n",
    "        #implementation code here\n",
    "        self.theta = theta\n",
    "        cf = 0\n",
    "        for i in range(X_train.shape[0] - 1):\n",
    "            summands = X_train[i].dot(theta.T) - y_train[i]\n",
    "            summands = summands * summands\n",
    "            cf = cf + summands\n",
    "        return cf / (2 * X_train.shape[0])\n",
    "    \n",
    "    def predict(self, X_test, theta):\n",
    "        # implementation code here \n",
    "        self.theta  = theta\n",
    "        X_t = np.c_[np.ones((len(X_test),1)), X_test]\n",
    "        y_predict  = (X_t).dot(self.theta)\n",
    "        return y_predict\n",
    "    \n",
    "    def fitUsingNormalEquation(self, X_train, y_train):\n",
    "        # implementation code here\n",
    "        X_1 = np.c_[np.ones((len(X_train),1)), X_train]\n",
    "        y_1 = np.array(y_train)\n",
    "        xtx = pinv((X_1.T).dot(X_1))\n",
    "        theta_best = xtx.dot(X_1.T).dot(y_train)\n",
    "        return theta_best\n",
    "    \n"
   ]
  },
  {
   "cell_type": "code",
   "execution_count": 73,
   "metadata": {},
   "outputs": [],
   "source": [
    "# Your code goes here to call the instance of class MyLinearRegression\n",
    "iters =25\n",
    "alpha = 0.006\n",
    "#beta = 0.001\n",
    "myGradientDescentModel = MyLinearRegression()"
   ]
  },
  {
   "cell_type": "code",
   "execution_count": 48,
   "metadata": {},
   "outputs": [],
   "source": [
    "alpha = 0.01\n",
    "theta, cost = myGradientDescentModel.fitUsingGradientDescent(X_train, y_train)    \n",
    "cost1 = cost"
   ]
  },
  {
   "cell_type": "code",
   "execution_count": 49,
   "metadata": {},
   "outputs": [],
   "source": [
    "alpha = 0.02\n",
    "theta, cost = myGradientDescentModel.fitUsingGradientDescent(X_train, y_train)    \n",
    "cost2 = cost"
   ]
  },
  {
   "cell_type": "code",
   "execution_count": 50,
   "metadata": {},
   "outputs": [],
   "source": [
    "alpha = 0.25\n",
    "theta, cost = myGradientDescentModel.fitUsingGradientDescent(X_train, y_train)    \n",
    "cost3 = cost"
   ]
  },
  {
   "cell_type": "markdown",
   "metadata": {},
   "source": [
    "* **Learning Rate:** You will try out different learning rates for the dataset and find a learning rate that converges quickly. If you pick a learning rate, your plot of Cost Function $J(\\theta)$ against number of iteration will quickly decay to a small value. This also indicates that your implementation is correct. If your learning rate is too large, the cost function $J(\\theta)$ can diverge and blow up. From the below plot, you must be able to report the best learning rate the you found to earn credit for this section."
   ]
  },
  {
   "cell_type": "code",
   "execution_count": 75,
   "metadata": {},
   "outputs": [
    {
     "data": {
      "image/png": "[encoded data removed]",
      "text/plain": [
       "<Figure size 432x288 with 1 Axes>"
      ]
     },
     "metadata": {
      "needs_background": "light"
     },
     "output_type": "display_data"
    }
   ],
   "source": [
    "iters_array = range(1, iters+1)\n",
    "plt.plot(iters_array, cost, color = 'green', label = 'alpha = 0.005')\n",
    "plt.show()"
   ]
  },
  {
   "cell_type": "code",
   "execution_count": 51,
   "metadata": {},
   "outputs": [
    {
     "data": {
      "image/png": "[encoded data removed]",
      "text/plain": [
       "<Figure size 432x288 with 1 Axes>"
      ]
     },
     "metadata": {
      "needs_background": "light"
     },
     "output_type": "display_data"
    }
   ],
   "source": [
    "iters_array = range(1, iters+1)\n",
    "plt.plot(iters_array, cost1, color = 'green', label = 'alpha = 0.01')\n",
    "plt.plot(iters_array, cost2, color = 'yellow', label = 'alpha = 0.02')\n",
    "plt.plot(iters_array, cost3, color = 'red', label = 'alpha = 0.25')\n",
    "plt.legend()\n",
    "plt.xlabel('Iterations')  \n",
    "plt.ylabel('Cost')  \n",
    "plt.title('Error vs. Training Iterations')  \n",
    "plt.show()"
   ]
  },
  {
   "cell_type": "code",
   "execution_count": 8,
   "metadata": {},
   "outputs": [],
   "source": [
    "# Use the following code to plot out your learning rate\n",
    "# iters and cost must be supplied to plot out the cost function\n",
    "# You may plot multiple curves corresponding to different learning rates to justify the best one.\n",
    "#\n",
    "# plt.set_xlabel('Iterations')  \n",
    "# plt.set_ylabel('Cost')  \n",
    "# plt.set_title('Error vs. Training Iterations')  "
   ]
  },
  {
   "cell_type": "markdown",
   "metadata": {},
   "source": [
    "- - -\n",
    "## 4. IMPLEMENTATION OF THE NORMAL EQUATION (10 pts)"
   ]
  },
  {
   "cell_type": "markdown",
   "metadata": {},
   "source": [
    "In my lecture, you learn that the closed form solution of linear regression using the normal equation formulation. Using the formula does not require any feature scaling, and should be straight forward to implement: \n",
    "\n",
    "$\n",
    "    \\mathbf{\\theta} = ({\\mathbf{X}^{T}\\mathbf{X}})^{-1}\\mathbf{X}^{T}\\mathbf{y}.\n",
    "$\n",
    "\n",
    "Note that you still need to add a column of 1's to the $\\mathbf{\n",
    "X}$ matrix to have an intercept term."
   ]
  },
  {
   "cell_type": "markdown",
   "metadata": {},
   "source": [
    "- - -\n",
    "## 5. COMPARISON OF DIFFERENT IMPLEMENTATIONS (20 pts)"
   ]
  },
  {
   "cell_type": "markdown",
   "metadata": {},
   "source": [
    "You should be able to evaluate and compare your gradient descent as well as normal equation implementation of linear regression. In theory, they should be the same, or at least similar. For good measures, you may also use the built-in library **Scholastic Gradient Descent (SGD)** as a third model for comparison. For each model, you must compute the Root Mean Squared Error (RMSE) as performance measure. The good news is that you can call library functions to compute these as shown below instead of writing your own code:\n",
    "\n",
    "* Which one yields the best performance measure for your dataset?\n",
    "* What is your assessment of the error? Good? Okay? Terrible?"
   ]
  },
  {
   "cell_type": "code",
   "execution_count": 43,
   "metadata": {},
   "outputs": [
    {
     "name": "stdout",
     "output_type": "stream",
     "text": [
      "3.127806947523513\n"
     ]
    },
    {
     "name": "stderr",
     "output_type": "stream",
     "text": [
      "/Library/Frameworks/Python.framework/Versions/3.7/lib/python3.7/site-packages/sklearn/linear_model/stochastic_gradient.py:128: FutureWarning: max_iter and tol parameters have been added in <class 'sklearn.linear_model.stochastic_gradient.SGDRegressor'> in 0.19. If both are left unset, they default to max_iter=5 and tol=None. If tol is not None, max_iter defaults to max_iter=1000. From 0.21, default max_iter will be 1000, and default tol will be 1e-3.\n",
      "  \"and default tol will be 1e-3.\" % type(self), FutureWarning)\n"
     ]
    }
   ],
   "source": [
    "from sklearn.metrics import mean_squared_error\n",
    "\n",
    "# Use the built-in SGD Regressor model\n",
    "from sklearn.linear_model import SGDRegressor\n",
    "\n",
    "mySGDModel = SGDRegressor()\n",
    "mySGDModel.fit(X_train,y_train)\n",
    "y_predict = mySGDModel.predict(X_test)\n",
    "mse = mean_squared_error(y_test, y_predict)\n",
    "mySGDModel_rmse = np.sqrt(mse)\n",
    "print(mySGDModel_rmse)\n",
    "\n",
    "# myGradientDescentModel_rmse = ?\n",
    "# myNormalEquationModel_rmse = ?"
   ]
  },
  {
   "cell_type": "code",
   "execution_count": 74,
   "metadata": {},
   "outputs": [
    {
     "name": "stdout",
     "output_type": "stream",
     "text": [
      "8.13125222265603\n"
     ]
    }
   ],
   "source": [
    "# myGradientDescentModel_rmse = ?\n",
    "myGradientDescentModel = MyLinearRegression()\n",
    "theta_gd, cost = myGradientDescentModel.fitUsingGradientDescent(X_train, y_train)    \n",
    "y_p_gd = myGradientDescentModel.predict(X_test, theta_gd)\n",
    "y_p_gd = y_p_gd.T\n",
    "mse_gd = mean_squared_error(y_test, y_p_gd)\n",
    "myGradientDescentModel_rmse = np.sqrt(mse_gd)\n",
    "print(myGradientDescentModel_rmse)"
   ]
  },
  {
   "cell_type": "code",
   "execution_count": 44,
   "metadata": {},
   "outputs": [
    {
     "name": "stdout",
     "output_type": "stream",
     "text": [
      "3.120471695992858\n"
     ]
    }
   ],
   "source": [
    "# myNormalEquationModel_rmse = ?\n",
    "\n",
    "myNormalEquationModel = MyLinearRegression()\n",
    "theta_ne = myNormalEquationModel.fitUsingNormalEquation(X_train, y_train)\n",
    "\n",
    "y_p_ne = myNormalEquationModel.predict(X_test, theta_ne)\n",
    "y_p_ne = y_p_ne.T\n",
    "mse_ne = mean_squared_error(y_test, y_p_ne)\n",
    "myNormalEquationModel_rmse = np.sqrt(mse_ne)\n",
    "print(myNormalEquationModel_rmse)"
   ]
  },
  {
   "cell_type": "markdown",
   "metadata": {},
   "source": [
    "The normal equation yields the best performance for this dataset, since it has the smallest rmse.\n",
    "The rmse of my gradient descent is around 8.18, about 2-3 times of the one of normal equation. This doesn't seem like a perfect performance, but it is based on my previous work. In earlier version of my data processing code, I chose to keep the 'Procipe Type' feature, but after training my model, I realized that this feature has only two different values, while the 'Summary' has about 30. More different values could give a more specific discription of the condition, thus would increase the accuracy of prediction. So I keep 'Summary' instead, and it actually performes better - the rmse is reduced to 8.18 from 9.7. In further work, I tried different combination of iteration times and learning rate, and finally reduce the rmse to 8.13125. Therefore, I'd say the current rmse is okay."
   ]
  },
  {
   "cell_type": "code",
   "execution_count": 76,
   "metadata": {},
   "outputs": [
    {
     "data": {
      "image/png": "[encoded data removed]",
      "text/plain": [
       "<Figure size 432x288 with 1 Axes>"
      ]
     },
     "metadata": {
      "needs_background": "light"
     },
     "output_type": "display_data"
    }
   ],
   "source": [
    "plt.plot(X_test, y_p_ne, 'ro', color = 'blue', label = 'predicted')\n",
    "plt.plot(X_test, y_test, 'ro', color = 'red', label = 'test')\n",
    "plt.xlabel('X_test')  \n",
    "plt.ylabel('y')  \n",
    "plt.title('predicted VS test')  \n",
    "plt.show()"
   ]
  },
  {
   "cell_type": "markdown",
   "metadata": {},
   "source": [
    "- - -\n",
    "## 6. PRESENTATION OF YOUR SOLUTION (10 pts)"
   ]
  },
  {
   "cell_type": "markdown",
   "metadata": {},
   "source": [
    "Now that you need to write a short memo of one paragraph to be read by a non-technical audience (ie. your manager/boss). Focus on answering the following: \n",
    "\n",
    "* How can you pitch your solution to this project? \n",
    "* What did you learn so far about the problem?\n",
    "* Is there any insight moving forward to improve the solution."
   ]
  },
  {
   "cell_type": "markdown",
   "metadata": {},
   "source": [
    "1. Interpretation of Project and Solution\n",
    "\n",
    "In this project, I implemented and trained a model that can predict a certain day's visibility based on given information about that day's weather condition. The dataset provides records on features such as temperature, humidity, wind speed and so on, as well as the corresponding visibility. We use the original records to train the model. With the trained model, we can calculate the visibility from input new data.\n",
    "I used the strategy of gradient descent, which helps my model to update its parameters according to current prediction performance. The model's performance is affected by its learning rate. The way to measure this model is to compare its predicted values with real values and calculate the error, and the error is presented as \"rmse\", root-mean-square error. With proper learning rate and iterations, we can have very small rmse, suggesting this model is able to provide relatively accurate predictions on a day's visibility.\n",
    "\n",
    "2. Things learned so far about the problem\n",
    "\n",
    "Before constructing the model, I first took a look of the data's big picture. The features that may affect visibility most are temperature, humidity and wind speed. Most days recorded in this dataset are partly cloudy or mostly cloudy. As though 'Precip Type' and 'Summary' are both categorical features, they have quite different power of affecting the model's performance of predicting.\n",
    "After pre-processing such as feature scaling and handling categorical attributes to make sure the model could be implemented, we need to separate our original dataset into two parts, one for training the model, and the other for testing and measuring. Then I wrote the core part of constructing the model, and put in the training data.\n",
    "\n",
    "3. Possible Improvement\n",
    "\n",
    "For the data pre-processing part, there might be more methods to prepare a dataset better for training a regression model. Also, at this time I only put one most important categorical feature into the training data, and if more categorical features are included, the result might improve. I didn't find a proper way to combine some of the features to create new ones, but there could be - or there could be better datasets with more corrolated information.\n",
    "Beside, for the model implementing part, there are actually varied versions of the gradient descent strategy, and the one I implement for now might not be the best in performance. Actually I have tried the Mini-batch gradient descent, but it is even worse. Also, there could be a better learning rate to help my model find the best predicting parameters.\n",
    "\n"
   ]
  },
  {
   "cell_type": "markdown",
   "metadata": {},
   "source": [
    "- - - \n",
    "### NEED HELP?"
   ]
  },
  {
   "cell_type": "markdown",
   "metadata": {},
   "source": [
    "In case you get stuck in any step in the process, you may find some useful information from:\n",
    "\n",
    " * Consult my [slides](https://docs.google.com/presentation/d/10D1he89peAWaFgjtZlHpUzvOOAie_vIFT95htKCKgc0/edit?usp=sharing) and/or the textbook\n",
    " * Talk to the TA, they are available and there to help you during [office hour](https://docs.google.com/document/d/15qB84xjaS-uRJmfKmmQuCz38bLMFaoqdbuRLoZEdOYI/edit#heading=h.72k1pvft525n)\n",
    " * Come talk to me or email me <nn4pj@virginia.edu> with subject starting \"CS6316 Assignment 1:...\".\n",
    "\n",
    "Best of luck and have fun!"
   ]
  },
  {
   "cell_type": "code",
   "execution_count": null,
   "metadata": {},
   "outputs": [],
   "source": []
  }
 ],
 "metadata": {
  "kernelspec": {
   "display_name": "Python 3",
   "language": "python",
   "name": "python3"
  },
  "language_info": {
   "codemirror_mode": {
    "name": "ipython",
    "version": 3
   },
   "file_extension": ".py",
   "mimetype": "text/x-python",
   "name": "python",
   "nbconvert_exporter": "python",
   "pygments_lexer": "ipython3",
   "version": "3.6.6"
  }
 },
 "nbformat": 4,
 "nbformat_minor": 2
}
