{
 "cells": [
  {
   "cell_type": "markdown",
   "metadata": {},
   "source": [
    "# Assignment 2: Spam Classification with SVM"
   ]
  },
  {
   "cell_type": "markdown",
   "metadata": {},
   "source": [
    "### CS 6316 Machine Learning - Department of Computer Science - University of Virginia\n",
    "*Many email services today provide spam filters that are able to classify emails into spam and non-spam email with high accuracy. In this part of the assignment, you will use SVMs to build your own spam filter. For references, you may refer to my [lecture 6](https://drive.google.com/open?id=1CeBhepjDKBaFBq2BZq-zNQs-MC8ll7aL4qAF8TJ24FM) and [lecture 6b](https://drive.google.com/open?id=13BidUAs_c2QdZkf92axt2S748sbnbI9Hgxg-fzb-OuU) or Chapter 5 of the textbook if you need additional sample codes to help with your assignment. For deliverables, you must write code in Python and submit **this** Jupyter Notebook file (.ipynb) to earn a total of 100 pts. You will gain points depending on how you perform in the following sections.*\n"
   ]
  },
  {
   "cell_type": "markdown",
   "metadata": {},
   "source": [
    "---\n",
    "## 1. PRE-PROCESSING THE DATA (15 pts)\n",
    "\n",
    "**Data Acquiring:** Download the dataset from https://archive.ics.uci.edu/ml/datasets/Spambase\n",
    "\n",
    "**Data Splitting:** Put data into the format needed for SVM, then split it into 80% training, 20% testing (each should have approximately the same proportion of position and negative examples).\n",
    "\n",
    "**Data Discovery:** Plot out all correlations among the features. You may notice some features are more correlated with your predicted value than other. This information will help you confirm that weights of your regression model later on.\n",
    "\n",
    "**Data Cleaning:** If your dataset has some missing values, make sure you are able to fill those values with the Imputer class. \n",
    "\n",
    "**Feature Scaling** You can use the standard Scikit-Learn library can write some codes to normalize the value of each features as follow:\n",
    "\n",
    "* Subtract the mean value of each feature from the dataset\n",
    "* Scale (divide) the feature values by their respective standard deviation"
   ]
  },
  {
   "cell_type": "code",
   "execution_count": 1,
   "metadata": {},
   "outputs": [],
   "source": [
    "# You might want to use the following package\n",
    "from sklearn.model_selection import train_test_split\n",
    "from pandas.plotting import scatter_matrix # optional\n",
    "from sklearn.preprocessing import Imputer\n",
    "from sklearn.preprocessing import LabelEncoder\n",
    "from sklearn.preprocessing import OneHotEncoder\n",
    "from sklearn.pipeline import Pipeline\n",
    "from sklearn.preprocessing import StandardScaler\n",
    "\n",
    "# Your code goes here for this section.\n",
    "# X_train = [];\n",
    "# y_train = [];\n",
    "# X_test = [];\n",
    "# y_test = [];"
   ]
  },
  {
   "cell_type": "code",
   "execution_count": 2,
   "metadata": {},
   "outputs": [
    {
     "data": {
      "text/html": [
       "<div>\n",
       "<style scoped>\n",
       "    .dataframe tbody tr th:only-of-type {\n",
       "        vertical-align: middle;\n",
       "    }\n",
       "\n",
       "    .dataframe tbody tr th {\n",
       "        vertical-align: top;\n",
       "    }\n",
       "\n",
       "    .dataframe thead th {\n",
       "        text-align: right;\n",
       "    }\n",
       "</style>\n",
       "<table border=\"1\" class=\"dataframe\">\n",
       "  <thead>\n",
       "    <tr style=\"text-align: right;\">\n",
       "      <th></th>\n",
       "      <th>word_freq_make</th>\n",
       "      <th>word_freq_address</th>\n",
       "      <th>word_freq_all</th>\n",
       "      <th>word_freq_3d</th>\n",
       "      <th>word_freq_our</th>\n",
       "      <th>word_freq_over</th>\n",
       "      <th>word_freq_remove</th>\n",
       "      <th>word_freq_internet</th>\n",
       "      <th>word_freq_order</th>\n",
       "      <th>word_freq_mail</th>\n",
       "      <th>...</th>\n",
       "      <th>char_freq_;</th>\n",
       "      <th>char_freq_(</th>\n",
       "      <th>char_freq_[</th>\n",
       "      <th>char_freq_!</th>\n",
       "      <th>char_freq_$</th>\n",
       "      <th>char_freq_#</th>\n",
       "      <th>capital_run_length_average</th>\n",
       "      <th>capital_run_length_longest</th>\n",
       "      <th>capital_run_length_total</th>\n",
       "      <th>spam_or_not</th>\n",
       "    </tr>\n",
       "  </thead>\n",
       "  <tbody>\n",
       "    <tr>\n",
       "      <th>0</th>\n",
       "      <td>0.00</td>\n",
       "      <td>0.64</td>\n",
       "      <td>0.64</td>\n",
       "      <td>0.0</td>\n",
       "      <td>0.32</td>\n",
       "      <td>0.00</td>\n",
       "      <td>0.00</td>\n",
       "      <td>0.00</td>\n",
       "      <td>0.00</td>\n",
       "      <td>0.00</td>\n",
       "      <td>...</td>\n",
       "      <td>0.00</td>\n",
       "      <td>0.000</td>\n",
       "      <td>0.0</td>\n",
       "      <td>0.778</td>\n",
       "      <td>0.000</td>\n",
       "      <td>0.000</td>\n",
       "      <td>3.756</td>\n",
       "      <td>61</td>\n",
       "      <td>278</td>\n",
       "      <td>1</td>\n",
       "    </tr>\n",
       "    <tr>\n",
       "      <th>1</th>\n",
       "      <td>0.21</td>\n",
       "      <td>0.28</td>\n",
       "      <td>0.50</td>\n",
       "      <td>0.0</td>\n",
       "      <td>0.14</td>\n",
       "      <td>0.28</td>\n",
       "      <td>0.21</td>\n",
       "      <td>0.07</td>\n",
       "      <td>0.00</td>\n",
       "      <td>0.94</td>\n",
       "      <td>...</td>\n",
       "      <td>0.00</td>\n",
       "      <td>0.132</td>\n",
       "      <td>0.0</td>\n",
       "      <td>0.372</td>\n",
       "      <td>0.180</td>\n",
       "      <td>0.048</td>\n",
       "      <td>5.114</td>\n",
       "      <td>101</td>\n",
       "      <td>1028</td>\n",
       "      <td>1</td>\n",
       "    </tr>\n",
       "    <tr>\n",
       "      <th>2</th>\n",
       "      <td>0.06</td>\n",
       "      <td>0.00</td>\n",
       "      <td>0.71</td>\n",
       "      <td>0.0</td>\n",
       "      <td>1.23</td>\n",
       "      <td>0.19</td>\n",
       "      <td>0.19</td>\n",
       "      <td>0.12</td>\n",
       "      <td>0.64</td>\n",
       "      <td>0.25</td>\n",
       "      <td>...</td>\n",
       "      <td>0.01</td>\n",
       "      <td>0.143</td>\n",
       "      <td>0.0</td>\n",
       "      <td>0.276</td>\n",
       "      <td>0.184</td>\n",
       "      <td>0.010</td>\n",
       "      <td>9.821</td>\n",
       "      <td>485</td>\n",
       "      <td>2259</td>\n",
       "      <td>1</td>\n",
       "    </tr>\n",
       "    <tr>\n",
       "      <th>3</th>\n",
       "      <td>0.00</td>\n",
       "      <td>0.00</td>\n",
       "      <td>0.00</td>\n",
       "      <td>0.0</td>\n",
       "      <td>0.63</td>\n",
       "      <td>0.00</td>\n",
       "      <td>0.31</td>\n",
       "      <td>0.63</td>\n",
       "      <td>0.31</td>\n",
       "      <td>0.63</td>\n",
       "      <td>...</td>\n",
       "      <td>0.00</td>\n",
       "      <td>0.137</td>\n",
       "      <td>0.0</td>\n",
       "      <td>0.137</td>\n",
       "      <td>0.000</td>\n",
       "      <td>0.000</td>\n",
       "      <td>3.537</td>\n",
       "      <td>40</td>\n",
       "      <td>191</td>\n",
       "      <td>1</td>\n",
       "    </tr>\n",
       "    <tr>\n",
       "      <th>4</th>\n",
       "      <td>0.00</td>\n",
       "      <td>0.00</td>\n",
       "      <td>0.00</td>\n",
       "      <td>0.0</td>\n",
       "      <td>0.63</td>\n",
       "      <td>0.00</td>\n",
       "      <td>0.31</td>\n",
       "      <td>0.63</td>\n",
       "      <td>0.31</td>\n",
       "      <td>0.63</td>\n",
       "      <td>...</td>\n",
       "      <td>0.00</td>\n",
       "      <td>0.135</td>\n",
       "      <td>0.0</td>\n",
       "      <td>0.135</td>\n",
       "      <td>0.000</td>\n",
       "      <td>0.000</td>\n",
       "      <td>3.537</td>\n",
       "      <td>40</td>\n",
       "      <td>191</td>\n",
       "      <td>1</td>\n",
       "    </tr>\n",
       "  </tbody>\n",
       "</table>\n",
       "<p>5 rows × 58 columns</p>\n",
       "</div>"
      ],
      "text/plain": [
       "   word_freq_make  word_freq_address  word_freq_all  word_freq_3d  \\\n",
       "0            0.00               0.64           0.64           0.0   \n",
       "1            0.21               0.28           0.50           0.0   \n",
       "2            0.06               0.00           0.71           0.0   \n",
       "3            0.00               0.00           0.00           0.0   \n",
       "4            0.00               0.00           0.00           0.0   \n",
       "\n",
       "   word_freq_our  word_freq_over  word_freq_remove  word_freq_internet  \\\n",
       "0           0.32            0.00              0.00                0.00   \n",
       "1           0.14            0.28              0.21                0.07   \n",
       "2           1.23            0.19              0.19                0.12   \n",
       "3           0.63            0.00              0.31                0.63   \n",
       "4           0.63            0.00              0.31                0.63   \n",
       "\n",
       "   word_freq_order  word_freq_mail     ...       char_freq_;  char_freq_(  \\\n",
       "0             0.00            0.00     ...              0.00        0.000   \n",
       "1             0.00            0.94     ...              0.00        0.132   \n",
       "2             0.64            0.25     ...              0.01        0.143   \n",
       "3             0.31            0.63     ...              0.00        0.137   \n",
       "4             0.31            0.63     ...              0.00        0.135   \n",
       "\n",
       "   char_freq_[  char_freq_!  char_freq_$  char_freq_#  \\\n",
       "0          0.0        0.778        0.000        0.000   \n",
       "1          0.0        0.372        0.180        0.048   \n",
       "2          0.0        0.276        0.184        0.010   \n",
       "3          0.0        0.137        0.000        0.000   \n",
       "4          0.0        0.135        0.000        0.000   \n",
       "\n",
       "   capital_run_length_average  capital_run_length_longest  \\\n",
       "0                       3.756                          61   \n",
       "1                       5.114                         101   \n",
       "2                       9.821                         485   \n",
       "3                       3.537                          40   \n",
       "4                       3.537                          40   \n",
       "\n",
       "   capital_run_length_total  spam_or_not  \n",
       "0                       278            1  \n",
       "1                      1028            1  \n",
       "2                      2259            1  \n",
       "3                       191            1  \n",
       "4                       191            1  \n",
       "\n",
       "[5 rows x 58 columns]"
      ]
     },
     "execution_count": 2,
     "metadata": {},
     "output_type": "execute_result"
    }
   ],
   "source": [
    "import pandas as pd\n",
    "import numpy as np\n",
    "import os\n",
    "import matplotlib\n",
    "import matplotlib.pyplot as plt\n",
    "import random\n",
    "\n",
    "np.random.seed(42)\n",
    "\n",
    "def load_spam_data(spam_path = '.'):\n",
    "    csv_path = os.path.join(spam_path,\"spambase.data.csv\")\n",
    "    return pd.read_csv(csv_path)\n",
    "\n",
    "# load dataset\n",
    "spam = load_spam_data()\n",
    "spam.head(5)"
   ]
  },
  {
   "cell_type": "code",
   "execution_count": 3,
   "metadata": {},
   "outputs": [
    {
     "data": {
      "text/plain": [
       "False"
      ]
     },
     "execution_count": 3,
     "metadata": {},
     "output_type": "execute_result"
    }
   ],
   "source": [
    "# check if null value exists\n",
    "spam_1 = spam\n",
    "spam_1.isnull().values.any()"
   ]
  },
  {
   "cell_type": "markdown",
   "metadata": {},
   "source": [
    "Data Splitting"
   ]
  },
  {
   "cell_type": "code",
   "execution_count": 4,
   "metadata": {},
   "outputs": [],
   "source": [
    "# split training and testing data\n",
    "from sklearn.model_selection import train_test_split\n",
    "\n",
    "X = spam_1.drop(\"spam_or_not\", axis = 1)\n",
    "y = spam_1[\"spam_or_not\"]\n",
    "\n",
    "X_train, X_test, y_train, y_test = train_test_split(X, y, test_size = 0.2, random_state = 42)"
   ]
  },
  {
   "cell_type": "markdown",
   "metadata": {},
   "source": [
    "Data Discovery"
   ]
  },
  {
   "cell_type": "code",
   "execution_count": 5,
   "metadata": {},
   "outputs": [
    {
     "data": {
      "text/plain": [
       "spam_or_not                   1.000000\n",
       "word_freq_your                0.383234\n",
       "word_freq_000                 0.334787\n",
       "word_freq_remove              0.332117\n",
       "char_freq_$                   0.323629\n",
       "word_freq_you                 0.273651\n",
       "word_freq_free                0.263215\n",
       "word_freq_business            0.263204\n",
       "capital_run_length_total      0.249164\n",
       "word_freq_our                 0.241920\n",
       "char_freq_!                   0.241888\n",
       "word_freq_receive             0.234529\n",
       "word_freq_over                0.232604\n",
       "word_freq_order               0.231551\n",
       "word_freq_money               0.216111\n",
       "capital_run_length_longest    0.216097\n",
       "word_freq_internet            0.206808\n",
       "word_freq_email               0.204208\n",
       "word_freq_all                 0.196988\n",
       "word_freq_addresses           0.195902\n",
       "word_freq_credit              0.189761\n",
       "word_freq_mail                0.138962\n",
       "word_freq_people              0.132927\n",
       "word_freq_make                0.126208\n",
       "capital_run_length_average    0.109999\n",
       "word_freq_font                0.091860\n",
       "char_freq_#                   0.065067\n",
       "word_freq_report              0.060027\n",
       "word_freq_3d                  0.057371\n",
       "word_freq_will                0.007741\n",
       "word_freq_address            -0.030224\n",
       "word_freq_parts              -0.031035\n",
       "word_freq_table              -0.044679\n",
       "char_freq_;                  -0.059630\n",
       "char_freq_[                  -0.064709\n",
       "word_freq_direct             -0.064801\n",
       "word_freq_conference         -0.084020\n",
       "char_freq_(                  -0.089672\n",
       "word_freq_project            -0.094594\n",
       "word_freq_cs                 -0.097375\n",
       "word_freq_415                -0.112754\n",
       "word_freq_857                -0.114214\n",
       "word_freq_data               -0.119931\n",
       "word_freq_pm                 -0.122831\n",
       "word_freq_telnet             -0.126912\n",
       "word_freq_lab                -0.133523\n",
       "word_freq_original           -0.135664\n",
       "word_freq_technology         -0.136134\n",
       "word_freq_meeting            -0.136615\n",
       "word_freq_re                 -0.140408\n",
       "word_freq_edu                -0.146138\n",
       "word_freq_85                 -0.149225\n",
       "word_freq_650                -0.158800\n",
       "word_freq_labs               -0.171095\n",
       "word_freq_1999               -0.178045\n",
       "word_freq_george             -0.183404\n",
       "word_freq_hpl                -0.232968\n",
       "word_freq_hp                 -0.256723\n",
       "Name: spam_or_not, dtype: float64"
      ]
     },
     "execution_count": 5,
     "metadata": {},
     "output_type": "execute_result"
    }
   ],
   "source": [
    "# Check corrolation\n",
    "corr_matrix =spam_1.corr()\n",
    "corr_matrix[\"spam_or_not\"].sort_values(ascending = False)"
   ]
  },
  {
   "cell_type": "code",
   "execution_count": 6,
   "metadata": {},
   "outputs": [
    {
     "name": "stdout",
     "output_type": "stream",
     "text": [
      "20\n",
      "22\n"
     ]
    }
   ],
   "source": [
    "# get index of the 2 columns with biggest corrolation\n",
    "column = list(spam_1.columns)\n",
    "sf1 = column.index('word_freq_your')\n",
    "sf2 = column.index('word_freq_000')\n",
    "print(sf1)\n",
    "print(sf2)"
   ]
  },
  {
   "cell_type": "markdown",
   "metadata": {},
   "source": [
    "Feature Scaling"
   ]
  },
  {
   "cell_type": "code",
   "execution_count": 7,
   "metadata": {},
   "outputs": [
    {
     "data": {
      "text/plain": [
       "array([[-0.0384418 , -0.16282344, -0.37328359, ...,  0.05102468,\n",
       "         2.10678454,  2.08342875],\n",
       "       [-0.34122237, -0.16282344, -0.55060935, ..., -0.10259216,\n",
       "        -0.21368686, -0.41338467],\n",
       "       [-0.34122237, -0.16282344,  4.23718633, ..., -0.08668808,\n",
       "        -0.19458833, -0.19780701],\n",
       "       ...,\n",
       "       [-0.34122237, -0.16282344, -0.55060935, ..., -0.08625907,\n",
       "        -0.2041376 , -0.40631655],\n",
       "       [-0.34122237,  0.02160941, -0.55060935, ..., -0.1082306 ,\n",
       "        -0.1898137 , -0.18720483],\n",
       "       [-0.00479951, -0.16282344,  0.25720803, ..., -0.09906813,\n",
       "        -0.11341958,  0.10612216]])"
      ]
     },
     "execution_count": 7,
     "metadata": {},
     "output_type": "execute_result"
    }
   ],
   "source": [
    "scaler = StandardScaler()\n",
    "X_train_s = scaler.fit_transform(X_train)\n",
    "X_train_s"
   ]
  },
  {
   "cell_type": "code",
   "execution_count": 8,
   "metadata": {},
   "outputs": [],
   "source": [
    "y_test_1 = np.array(y_test, dtype=pd.Series)"
   ]
  },
  {
   "cell_type": "code",
   "execution_count": 9,
   "metadata": {},
   "outputs": [],
   "source": [
    "t_mean = scaler.mean_\n",
    "t_var = scaler.var_\n",
    "X_test_s = (X_test - t_mean)/t_var"
   ]
  },
  {
   "cell_type": "code",
   "execution_count": 10,
   "metadata": {},
   "outputs": [
    {
     "data": {
      "text/plain": [
       "numpy.ndarray"
      ]
     },
     "execution_count": 10,
     "metadata": {},
     "output_type": "execute_result"
    }
   ],
   "source": [
    "type(t_var)"
   ]
  },
  {
   "cell_type": "markdown",
   "metadata": {},
   "source": [
    "- - -\n",
    "## 2. TRAINING SVM FOR SPAM CLASSIFICATION (15 pts)\n",
    "\n",
    "Run your linear SVM classifier on the training data, and test the resulting model on the test data. In this section, you may use the default **loss function** (hinge) and **default** value of the C hyperparameter (=1.0):\n",
    "\n",
    "* Report accuracy, precision, recall?\n",
    "* Create an ROC curve for this SVM on the test data, using 200 or more evenly spaced thresholds. You may use library function calls to create the ROC curve?\n",
    "\n",
    "**Implementation Notes:** You do NOT need to add a column of 1's to the $\\mathbf{\n",
    "x}$ matrix to have an intercept term"
   ]
  },
  {
   "cell_type": "code",
   "execution_count": 11,
   "metadata": {},
   "outputs": [
    {
     "data": {
      "text/plain": [
       "LinearSVC(C=1, class_weight=None, dual=True, fit_intercept=True,\n",
       "     intercept_scaling=1, loss='hinge', max_iter=1000, multi_class='ovr',\n",
       "     penalty='l2', random_state=42, tol=0.0001, verbose=0)"
      ]
     },
     "execution_count": 11,
     "metadata": {},
     "output_type": "execute_result"
    }
   ],
   "source": [
    "from sklearn.svm import LinearSVC\n",
    "\n",
    "# Training your svm here\n",
    "svm_clf = LinearSVC(C=1, loss=\"hinge\", random_state=42)\n",
    "svm_clf.fit(X_train_s, y_train)\n"
   ]
  },
  {
   "cell_type": "code",
   "execution_count": 12,
   "metadata": {},
   "outputs": [
    {
     "name": "stdout",
     "output_type": "stream",
     "text": [
      "accuracy score: 0.8870792616720955\n",
      "precision score: 0.8980776426809663\n",
      "recall score: 0.8870792616720955\n"
     ]
    }
   ],
   "source": [
    "# Testing your svm here\n",
    "from sklearn.metrics import precision_score, recall_score, accuracy_score\n",
    "from sklearn.metrics import roc_curve, auc\n",
    "\n",
    "y_predict = svm_clf.predict(X_test_s)\n",
    "ac = accuracy_score(y_predict, y_test)\n",
    "ps = precision_score(y_predict, y_test, average='weighted')\n",
    "rs = recall_score(y_predict, y_test, average='weighted')\n",
    "print(\"accuracy score:\", ac)\n",
    "print(\"precision score:\", ps)\n",
    "print(\"recall score:\", rs)"
   ]
  },
  {
   "cell_type": "code",
   "execution_count": 13,
   "metadata": {},
   "outputs": [],
   "source": [
    "# calculate prob\n",
    "y_margins = svm_clf.decision_function(X_test_s)\n",
    "y_prob = (y_margins - y_margins.min())/(y_margins.max() - y_margins.min())"
   ]
  },
  {
   "cell_type": "code",
   "execution_count": 14,
   "metadata": {},
   "outputs": [],
   "source": [
    "# create ROC curve\n",
    "from sklearn import metrics\n",
    "\n",
    "#thr = np.linspace(1,0,201)    \n",
    "fpr, tpr, thresholds = roc_curve(y_test, y_prob, pos_label=1)\n",
    "roc_auc = metrics.auc(fpr, tpr)\n"
   ]
  },
  {
   "cell_type": "code",
   "execution_count": 15,
   "metadata": {},
   "outputs": [
    {
     "data": {
      "image/png": "[encoded data removed]",
      "text/plain": [
       "<Figure size 432x288 with 1 Axes>"
      ]
     },
     "metadata": {
      "needs_background": "light"
     },
     "output_type": "display_data"
    }
   ],
   "source": [
    "# method I: plt\n",
    "import matplotlib.pyplot as plt\n",
    "plt.title('Receiver Operating Characteristic')\n",
    "plt.plot(fpr, tpr, 'b', label = 'AUC = %0.2f' % roc_auc)\n",
    "plt.legend(loc = 'lower right')\n",
    "plt.plot([0, 1], [0, 1],'r--')\n",
    "plt.xlim([0, 1])\n",
    "plt.ylim([0, 1])\n",
    "plt.ylabel('True Positive Rate')\n",
    "plt.xlabel('False Positive Rate')\n",
    "plt.show()"
   ]
  },
  {
   "cell_type": "markdown",
   "metadata": {},
   "source": [
    "- - -\n",
    "## 3. TUNING C FOR LINEAR SVM (15 pts)\n",
    "In this part of the assignment, you will try using different values of the C parameter with SVMs. Your task is to try different values of C on this dataset. For example, when C is small, you should find that the SVM puts the decision boundary in the gap between the two datasets and misclassifies the data point. When C is large, you should find that the SVM now classifies every single example correctly, but has a decision boundary that does not appear to be a natural fit for the data. \n",
    "\n",
    "In a 2-D feature space of your choice, you must be able to plot out the decision boundary of SVM for different values of C to earn credit for this section. Depends on your observation on the dataset, you must provide some justifications on the reason you select a certain value of C to tradeoff margin and data violation. "
   ]
  },
  {
   "cell_type": "code",
   "execution_count": 16,
   "metadata": {},
   "outputs": [],
   "source": [
    "# Use the following code to plot out your hyperparameter C\n",
    "# You may plot multiple decision boundary corresponding to different C\n",
    "import matplotlib\n",
    "import matplotlib.pyplot as plt\n",
    "plt.rcParams['axes.labelsize'] = 14\n",
    "plt.rcParams['xtick.labelsize'] = 12\n",
    "plt.rcParams['ytick.labelsize'] = 12\n",
    "\n",
    "X_ = X_train.iloc[:, [20,22]]\n",
    "y_ = y_train"
   ]
  },
  {
   "cell_type": "code",
   "execution_count": 17,
   "metadata": {},
   "outputs": [
    {
     "data": {
      "text/plain": [
       "Pipeline(memory=None,\n",
       "     steps=[('scaler', StandardScaler(copy=True, with_mean=True, with_std=True)), ('linear_svc', LinearSVC(C=1000, class_weight=None, dual=True, fit_intercept=True,\n",
       "     intercept_scaling=1, loss='hinge', max_iter=1000, multi_class='ovr',\n",
       "     penalty='l2', random_state=42, tol=0.0001, verbose=0))])"
      ]
     },
     "execution_count": 17,
     "metadata": {},
     "output_type": "execute_result"
    }
   ],
   "source": [
    "from sklearn.pipeline import Pipeline\n",
    "\n",
    "svm_clf1 = LinearSVC(C=1, loss=\"hinge\", random_state=42)\n",
    "svm_clf2 = LinearSVC(C=100, loss=\"hinge\", random_state=42)\n",
    "svm_clf3 = LinearSVC(C=1000, loss=\"hinge\", random_state=42)\n",
    "\n",
    "scaled_svm_clf1 = Pipeline([\n",
    "        (\"scaler\", scaler),\n",
    "        (\"linear_svc\", svm_clf1),\n",
    "    ])\n",
    "scaled_svm_clf2 = Pipeline([\n",
    "        (\"scaler\", scaler),\n",
    "        (\"linear_svc\", svm_clf2),\n",
    "    ])\n",
    "scaled_svm_clf3 = Pipeline([\n",
    "        (\"scaler\", scaler),\n",
    "        (\"linear_svc\", svm_clf3),\n",
    "    ])\n",
    "\n",
    "scaled_svm_clf1.fit(X_, y_)\n",
    "scaled_svm_clf2.fit(X_, y_)\n",
    "scaled_svm_clf3.fit(X_, y_)"
   ]
  },
  {
   "cell_type": "code",
   "execution_count": 18,
   "metadata": {},
   "outputs": [],
   "source": [
    "def plot_svc_decision_boundary(svm_clf, xmin, xmax):\n",
    "    w = svm_clf.coef_[0]\n",
    "    b = svm_clf.intercept_[0]\n",
    "\n",
    "    # At the decision boundary, w0*x0 + w1*x1 + b = 0\n",
    "    # => x1 = -w0/w1 * x0 - b/w1\n",
    "    x0 = np.linspace(xmin, xmax, 200)\n",
    "    decision_boundary = -w[0]/w[1] * x0 - b/w[1]\n",
    "\n",
    "    margin = 1/w[1]\n",
    "    gutter_up = decision_boundary + margin\n",
    "    gutter_down = decision_boundary - margin\n",
    "\n",
    "    svs = svm_clf.support_vectors_\n",
    "    plt.scatter(svs.iloc[:, 0], svs.iloc[:, 1], s=180, facecolors='#FFAAAA')\n",
    "    plt.plot(x0, decision_boundary, \"k-\", linewidth=2)\n",
    "    plt.plot(x0, gutter_up, \"k--\", linewidth=2)\n",
    "    plt.plot(x0, gutter_down, \"k--\", linewidth=2)"
   ]
  },
  {
   "cell_type": "code",
   "execution_count": 19,
   "metadata": {},
   "outputs": [],
   "source": [
    "# Convert to unscaled parameters\n",
    "b1 = svm_clf1.decision_function([-scaler.mean_ / scaler.scale_])\n",
    "b2 = svm_clf2.decision_function([-scaler.mean_ / scaler.scale_])\n",
    "b3 = svm_clf3.decision_function([-scaler.mean_ / scaler.scale_])\n",
    "w1 = svm_clf1.coef_[0] / scaler.scale_\n",
    "w2 = svm_clf2.coef_[0] / scaler.scale_\n",
    "w3 = svm_clf3.coef_[0] / scaler.scale_\n",
    "svm_clf1.intercept_ = np.array([b1])\n",
    "svm_clf2.intercept_ = np.array([b2])\n",
    "svm_clf3.intercept_ = np.array([b3])\n",
    "svm_clf1.coef_ = np.array([w1])\n",
    "svm_clf2.coef_ = np.array([w2])\n",
    "svm_clf3.coef_ = np.array([w3])\n",
    "\n",
    "# Find support vectors (LinearSVC does not do this automatically)\n",
    "t = y_ * 2 - 1\n",
    "support_vectors_idx1 = (t * (X_.dot(w1) + b1) < 1).ravel()\n",
    "support_vectors_idx2 = (t * (X_.dot(w2) + b2) < 1).ravel()\n",
    "support_vectors_idx3 = (t * (X_.dot(w3) + b3) < 1).ravel()\n",
    "svm_clf1.support_vectors_ = X_[support_vectors_idx1]\n",
    "svm_clf2.support_vectors_ = X_[support_vectors_idx2]\n",
    "svm_clf3.support_vectors_ = X_[support_vectors_idx3]"
   ]
  },
  {
   "cell_type": "code",
   "execution_count": 20,
   "metadata": {},
   "outputs": [
    {
     "data": {
      "image/png": "[encoded data removed]",
      "text/plain": [
       "<Figure size 1440x540 with 3 Axes>"
      ]
     },
     "metadata": {
      "needs_background": "light"
     },
     "output_type": "display_data"
    }
   ],
   "source": [
    "plt.figure(figsize=(20,7.5))\n",
    "plt.subplot(221)\n",
    "plt.plot(X_.iloc[:, 0][y_==1], X_.iloc[:, 1][y_==1], \"g^\", label=\"spam\")\n",
    "plt.plot(X_.iloc[:, 0][y_==0], X_.iloc[:, 1][y_==0], \"bs\", label=\"not spam\")\n",
    "plot_svc_decision_boundary(svm_clf1, 0, 5)\n",
    "plt.xlabel(\"word_freq_your\", fontsize=14)\n",
    "plt.ylabel(\"word_freq_000\", fontsize=14)\n",
    "plt.legend(loc=\"upper left\", fontsize=14)\n",
    "plt.title(\"$C = {}$\".format(svm_clf1.C), fontsize=16)\n",
    "plt.axis([0, 1.5, 0, 0.5])\n",
    "\n",
    "plt.subplot(222)\n",
    "plt.plot(X_.iloc[:, 0][y_==1], X_.iloc[:, 1][y_==1], \"g^\")\n",
    "plt.plot(X_.iloc[:, 0][y_==0], X_.iloc[:, 1][y_==0], \"bs\")\n",
    "plot_svc_decision_boundary(svm_clf2, 0, 5)\n",
    "plt.xlabel(\"word_freq_your\", fontsize=14)\n",
    "plt.title(\"$C = {}$\".format(svm_clf2.C), fontsize=16)\n",
    "plt.axis([0, 1.5, 0, 0.5])\n",
    "\n",
    "plt.subplot(223)\n",
    "plt.plot(X_.iloc[:, 0][y_==1], X_.iloc[:, 1][y_==1], \"g^\")\n",
    "plt.plot(X_.iloc[:, 0][y_==0], X_.iloc[:, 1][y_==0], \"bs\")\n",
    "plot_svc_decision_boundary(svm_clf3, 0, 5)\n",
    "plt.xlabel(\"word_freq_your\", fontsize=14)\n",
    "plt.title(\"$C = {}$\".format(svm_clf3.C), fontsize=16)\n",
    "plt.axis([0, 1.5, 0, 0.5])\n",
    "\n",
    "plt.subplots_adjust(wspace =0.1, hspace =0.8)\n",
    "plt.show()"
   ]
  },
  {
   "cell_type": "markdown",
   "metadata": {},
   "source": [
    "From the decision boundaries above, I think C=100 is the best choice, because it has the best balance between margin and data violation. To be more specific, it has a reasonable margin size and smaller data violation, while C=1000 may result in some bias."
   ]
  },
  {
   "cell_type": "markdown",
   "metadata": {},
   "source": [
    "- - -\n",
    "## 4. SELECTING THE FEATURES WITH SVM (25 pts)\n",
    "\n",
    "Once your learned a best linear SVM in previous sections, your task in this section is to select the best features. First, you must * Obtain the weight vector $\\mathbf{w}$. Then, for the number of features $n = 2$ to 57, you will run the following (in a loop of course):\n",
    "\n",
    "* Select the set of $n$ features that have the highest $\\mathbf{w}_n$\n",
    "* Train an SVM, $SVM_n$, on all training data, only using these $n$ features with the same hyperparameter C.\n",
    "* Test $SVM_n$ on the test set (using the same $n$ features) to obtain accuracy.\n",
    "* Plot accuracy on test data vs. $n$ number of features\n",
    "\n",
    "In one paragraph, discuss the effects of feature selection including the top 5 features."
   ]
  },
  {
   "cell_type": "code",
   "execution_count": 21,
   "metadata": {},
   "outputs": [],
   "source": [
    "# Your feature selection code goes here\n",
    "# obtain w\n",
    "from sklearn.svm import LinearSVC\n",
    "svm = LinearSVC(C=500, loss=\"hinge\", random_state=42) # choose C = 900\n",
    "svm.fit(X_train_s, y_train)\n",
    "w = svm.coef_"
   ]
  },
  {
   "cell_type": "code",
   "execution_count": 22,
   "metadata": {},
   "outputs": [],
   "source": [
    "absw = np.absolute(w)"
   ]
  },
  {
   "cell_type": "code",
   "execution_count": 23,
   "metadata": {},
   "outputs": [],
   "source": [
    "# create an index row to keep track on the index of features with highest wn\n",
    "index = np.zeros([1,57])\n",
    "for i in range(0,57):\n",
    "    index[0,i] = i+1"
   ]
  },
  {
   "cell_type": "code",
   "execution_count": 24,
   "metadata": {},
   "outputs": [],
   "source": [
    "new = np.r_[index, absw]"
   ]
  },
  {
   "cell_type": "code",
   "execution_count": 25,
   "metadata": {},
   "outputs": [],
   "source": [
    "X_t_v = X_train.values\n",
    "X_t_v1 = np.r_[new, X_t_v]\n",
    "indxt = (X_t_v1[1]).argsort()\n",
    "indxt1 = indxt.tolist()\n",
    "indxt1.reverse()"
   ]
  },
  {
   "cell_type": "code",
   "execution_count": 46,
   "metadata": {},
   "outputs": [
    {
     "data": {
      "text/html": [
       "<div>\n",
       "<style scoped>\n",
       "    .dataframe tbody tr th:only-of-type {\n",
       "        vertical-align: middle;\n",
       "    }\n",
       "\n",
       "    .dataframe tbody tr th {\n",
       "        vertical-align: top;\n",
       "    }\n",
       "\n",
       "    .dataframe thead th {\n",
       "        text-align: right;\n",
       "    }\n",
       "</style>\n",
       "<table border=\"1\" class=\"dataframe\">\n",
       "  <thead>\n",
       "    <tr style=\"text-align: right;\">\n",
       "      <th></th>\n",
       "      <th>0</th>\n",
       "      <th>1</th>\n",
       "      <th>2</th>\n",
       "      <th>3</th>\n",
       "      <th>4</th>\n",
       "      <th>5</th>\n",
       "      <th>6</th>\n",
       "      <th>7</th>\n",
       "      <th>8</th>\n",
       "      <th>9</th>\n",
       "      <th>...</th>\n",
       "      <th>47</th>\n",
       "      <th>48</th>\n",
       "      <th>49</th>\n",
       "      <th>50</th>\n",
       "      <th>51</th>\n",
       "      <th>52</th>\n",
       "      <th>53</th>\n",
       "      <th>54</th>\n",
       "      <th>55</th>\n",
       "      <th>56</th>\n",
       "    </tr>\n",
       "  </thead>\n",
       "  <tbody>\n",
       "    <tr>\n",
       "      <th>0</th>\n",
       "      <td>27.000000</td>\n",
       "      <td>41.000000</td>\n",
       "      <td>25.00000</td>\n",
       "      <td>55.000000</td>\n",
       "      <td>15.000000</td>\n",
       "      <td>23.000000</td>\n",
       "      <td>53.000000</td>\n",
       "      <td>44.000000</td>\n",
       "      <td>49.000000</td>\n",
       "      <td>24.00000</td>\n",
       "      <td>...</td>\n",
       "      <td>8.000000</td>\n",
       "      <td>38.000000</td>\n",
       "      <td>39.000000</td>\n",
       "      <td>9.00000</td>\n",
       "      <td>12.000000</td>\n",
       "      <td>43.000000</td>\n",
       "      <td>10.000000</td>\n",
       "      <td>13.000000</td>\n",
       "      <td>21.000000</td>\n",
       "      <td>2.000000</td>\n",
       "    </tr>\n",
       "    <tr>\n",
       "      <th>1</th>\n",
       "      <td>19.989929</td>\n",
       "      <td>3.708571</td>\n",
       "      <td>1.41946</td>\n",
       "      <td>0.730232</td>\n",
       "      <td>0.693501</td>\n",
       "      <td>0.642921</td>\n",
       "      <td>0.582275</td>\n",
       "      <td>0.576638</td>\n",
       "      <td>0.546214</td>\n",
       "      <td>0.53337</td>\n",
       "      <td>...</td>\n",
       "      <td>0.047779</td>\n",
       "      <td>0.045842</td>\n",
       "      <td>0.045676</td>\n",
       "      <td>0.04187</td>\n",
       "      <td>0.041526</td>\n",
       "      <td>0.036738</td>\n",
       "      <td>0.036714</td>\n",
       "      <td>0.029001</td>\n",
       "      <td>0.028451</td>\n",
       "      <td>0.015396</td>\n",
       "    </tr>\n",
       "    <tr>\n",
       "      <th>2</th>\n",
       "      <td>0.000000</td>\n",
       "      <td>0.000000</td>\n",
       "      <td>0.00000</td>\n",
       "      <td>6.813000</td>\n",
       "      <td>0.000000</td>\n",
       "      <td>0.390000</td>\n",
       "      <td>0.155000</td>\n",
       "      <td>0.000000</td>\n",
       "      <td>0.000000</td>\n",
       "      <td>0.19000</td>\n",
       "      <td>...</td>\n",
       "      <td>0.000000</td>\n",
       "      <td>0.000000</td>\n",
       "      <td>0.000000</td>\n",
       "      <td>0.19000</td>\n",
       "      <td>0.480000</td>\n",
       "      <td>0.000000</td>\n",
       "      <td>0.290000</td>\n",
       "      <td>0.000000</td>\n",
       "      <td>1.660000</td>\n",
       "      <td>0.000000</td>\n",
       "    </tr>\n",
       "    <tr>\n",
       "      <th>3</th>\n",
       "      <td>0.000000</td>\n",
       "      <td>0.000000</td>\n",
       "      <td>0.00000</td>\n",
       "      <td>1.800000</td>\n",
       "      <td>0.000000</td>\n",
       "      <td>0.000000</td>\n",
       "      <td>0.000000</td>\n",
       "      <td>0.000000</td>\n",
       "      <td>0.124000</td>\n",
       "      <td>0.00000</td>\n",
       "      <td>...</td>\n",
       "      <td>0.000000</td>\n",
       "      <td>0.000000</td>\n",
       "      <td>0.000000</td>\n",
       "      <td>0.00000</td>\n",
       "      <td>1.580000</td>\n",
       "      <td>0.790000</td>\n",
       "      <td>0.000000</td>\n",
       "      <td>0.000000</td>\n",
       "      <td>0.790000</td>\n",
       "      <td>0.000000</td>\n",
       "    </tr>\n",
       "    <tr>\n",
       "      <th>4</th>\n",
       "      <td>0.000000</td>\n",
       "      <td>0.000000</td>\n",
       "      <td>0.27000</td>\n",
       "      <td>2.319000</td>\n",
       "      <td>0.000000</td>\n",
       "      <td>0.000000</td>\n",
       "      <td>0.000000</td>\n",
       "      <td>0.000000</td>\n",
       "      <td>0.000000</td>\n",
       "      <td>0.00000</td>\n",
       "      <td>...</td>\n",
       "      <td>0.000000</td>\n",
       "      <td>0.000000</td>\n",
       "      <td>0.000000</td>\n",
       "      <td>0.27000</td>\n",
       "      <td>2.160000</td>\n",
       "      <td>0.000000</td>\n",
       "      <td>0.000000</td>\n",
       "      <td>0.000000</td>\n",
       "      <td>1.620000</td>\n",
       "      <td>0.000000</td>\n",
       "    </tr>\n",
       "    <tr>\n",
       "      <th>5</th>\n",
       "      <td>0.000000</td>\n",
       "      <td>0.000000</td>\n",
       "      <td>0.00000</td>\n",
       "      <td>48.500000</td>\n",
       "      <td>0.000000</td>\n",
       "      <td>0.000000</td>\n",
       "      <td>0.117000</td>\n",
       "      <td>0.000000</td>\n",
       "      <td>0.000000</td>\n",
       "      <td>0.00000</td>\n",
       "      <td>...</td>\n",
       "      <td>1.310000</td>\n",
       "      <td>0.000000</td>\n",
       "      <td>0.000000</td>\n",
       "      <td>1.31000</td>\n",
       "      <td>0.000000</td>\n",
       "      <td>0.000000</td>\n",
       "      <td>1.310000</td>\n",
       "      <td>0.000000</td>\n",
       "      <td>3.940000</td>\n",
       "      <td>0.000000</td>\n",
       "    </tr>\n",
       "    <tr>\n",
       "      <th>6</th>\n",
       "      <td>1.360000</td>\n",
       "      <td>0.000000</td>\n",
       "      <td>0.00000</td>\n",
       "      <td>2.307000</td>\n",
       "      <td>0.000000</td>\n",
       "      <td>0.000000</td>\n",
       "      <td>0.000000</td>\n",
       "      <td>0.000000</td>\n",
       "      <td>0.000000</td>\n",
       "      <td>0.00000</td>\n",
       "      <td>...</td>\n",
       "      <td>0.000000</td>\n",
       "      <td>0.000000</td>\n",
       "      <td>0.000000</td>\n",
       "      <td>0.00000</td>\n",
       "      <td>1.360000</td>\n",
       "      <td>0.000000</td>\n",
       "      <td>0.000000</td>\n",
       "      <td>0.000000</td>\n",
       "      <td>5.470000</td>\n",
       "      <td>0.000000</td>\n",
       "    </tr>\n",
       "  </tbody>\n",
       "</table>\n",
       "<p>7 rows × 57 columns</p>\n",
       "</div>"
      ],
      "text/plain": [
       "          0          1         2          3          4          5          6   \\\n",
       "0  27.000000  41.000000  25.00000  55.000000  15.000000  23.000000  53.000000   \n",
       "1  19.989929   3.708571   1.41946   0.730232   0.693501   0.642921   0.582275   \n",
       "2   0.000000   0.000000   0.00000   6.813000   0.000000   0.390000   0.155000   \n",
       "3   0.000000   0.000000   0.00000   1.800000   0.000000   0.000000   0.000000   \n",
       "4   0.000000   0.000000   0.27000   2.319000   0.000000   0.000000   0.000000   \n",
       "5   0.000000   0.000000   0.00000  48.500000   0.000000   0.000000   0.117000   \n",
       "6   1.360000   0.000000   0.00000   2.307000   0.000000   0.000000   0.000000   \n",
       "\n",
       "          7          8         9     ...           47         48         49  \\\n",
       "0  44.000000  49.000000  24.00000    ...     8.000000  38.000000  39.000000   \n",
       "1   0.576638   0.546214   0.53337    ...     0.047779   0.045842   0.045676   \n",
       "2   0.000000   0.000000   0.19000    ...     0.000000   0.000000   0.000000   \n",
       "3   0.000000   0.124000   0.00000    ...     0.000000   0.000000   0.000000   \n",
       "4   0.000000   0.000000   0.00000    ...     0.000000   0.000000   0.000000   \n",
       "5   0.000000   0.000000   0.00000    ...     1.310000   0.000000   0.000000   \n",
       "6   0.000000   0.000000   0.00000    ...     0.000000   0.000000   0.000000   \n",
       "\n",
       "        50         51         52         53         54         55        56  \n",
       "0  9.00000  12.000000  43.000000  10.000000  13.000000  21.000000  2.000000  \n",
       "1  0.04187   0.041526   0.036738   0.036714   0.029001   0.028451  0.015396  \n",
       "2  0.19000   0.480000   0.000000   0.290000   0.000000   1.660000  0.000000  \n",
       "3  0.00000   1.580000   0.790000   0.000000   0.000000   0.790000  0.000000  \n",
       "4  0.27000   2.160000   0.000000   0.000000   0.000000   1.620000  0.000000  \n",
       "5  1.31000   0.000000   0.000000   1.310000   0.000000   3.940000  0.000000  \n",
       "6  0.00000   1.360000   0.000000   0.000000   0.000000   5.470000  0.000000  \n",
       "\n",
       "[7 rows x 57 columns]"
      ]
     },
     "execution_count": 46,
     "metadata": {},
     "output_type": "execute_result"
    }
   ],
   "source": [
    "X_t = X_t_v1[:,indxt1]\n",
    "X_t_df = pd.DataFrame(X_t)\n",
    "X_t_df.head(7)"
   ]
  },
  {
   "cell_type": "code",
   "execution_count": 27,
   "metadata": {},
   "outputs": [],
   "source": [
    "# Sorted version of X_train\n",
    "X_tr = X_t_df.drop([0,1])\n",
    "X_tr = X_tr.reset_index(drop=True)\n",
    "#X_tr.head(5)\n",
    "#data = data[:,data[2].argsort()]"
   ]
  },
  {
   "cell_type": "code",
   "execution_count": 28,
   "metadata": {},
   "outputs": [],
   "source": [
    "# Sorted version of X_test\n",
    "X_te_v = X_test.values\n",
    "X_te_v1 = np.r_[new, X_te_v]\n",
    "indxte = (X_t_v1[1]).argsort()\n",
    "indxte1 = indxte.tolist()\n",
    "indxte1.reverse()\n",
    "X_te = X_te_v1[:,indxte1]\n",
    "X_te_df = pd.DataFrame(X_te)\n",
    "#X_te_df.head(7)"
   ]
  },
  {
   "cell_type": "code",
   "execution_count": 29,
   "metadata": {},
   "outputs": [],
   "source": [
    "X_te = X_te_df.drop([0,1])\n",
    "X_te = X_te.reset_index(drop=True)\n",
    "#X_te.head(5)"
   ]
  },
  {
   "cell_type": "code",
   "execution_count": 30,
   "metadata": {},
   "outputs": [],
   "source": [
    "from sklearn.feature_extraction.text import CountVectorizer\n",
    "from sklearn.svm import LinearSVC\n",
    "import matplotlib.pyplot as plt\n",
    "\n",
    "# feature selection\n",
    "accuracy = np.zeros(56)\n",
    "scaler1 = StandardScaler()\n",
    "count = 0\n",
    "\n",
    "for i in range(2,58):\n",
    "    # construct a new feature set\n",
    "    X_n = X_tr.iloc[:,:(i-1)]\n",
    "    scaler1 = StandardScaler()\n",
    "    X_n_s = scaler1.fit_transform(X_n)\n",
    "    n_mean = scaler1.mean_\n",
    "    n_var = scaler1.var_\n",
    "    svm_n = LinearSVC(C=1, loss=\"hinge\", random_state=42)\n",
    "    svm_n.fit(X_n_s, y_train)\n",
    "    X_test_n = X_te.iloc[:, :(i-1)]\n",
    "    Xt_n_s = (X_test_n - n_mean)/n_var\n",
    "    y_p_n = svm_n.predict(Xt_n_s)\n",
    "    ac = accuracy_score(y_p_n, y_test)\n",
    "    accuracy[i-2] = ac\n",
    "    count = count+1"
   ]
  },
  {
   "cell_type": "code",
   "execution_count": 31,
   "metadata": {},
   "outputs": [
    {
     "data": {
      "image/png": "[encoded data removed]",
      "text/plain": [
       "<Figure size 432x288 with 1 Axes>"
      ]
     },
     "metadata": {
      "needs_background": "light"
     },
     "output_type": "display_data"
    }
   ],
   "source": [
    "plt.xlabel(\"n features\", fontsize=14)\n",
    "plt.ylabel(\"accuracy\", fontsize=14)\n",
    "n = np.zeros(56)\n",
    "for i in range(0,56):\n",
    "    n[i] = i+2\n",
    "plt.scatter(n,accuracy)\n",
    "plt.show()"
   ]
  },
  {
   "cell_type": "markdown",
   "metadata": {},
   "source": [
    "# In one paragraph, discuss the effects of feature selection including the top 5 features.\n",
    "\n",
    "From the accuracy vs n number of features plot, we can tell that as n increases, which means we include more features in model training and predicting, the accuracy is increasing accordingly. If we investigate the effect each new feature has to the model, we will find some features have much stronger influence on the performance of the model, making the accuracy increase sharply at those points.\n",
    "The top 5 features are the 5,6,7,8 and 15th features, namely \"word_freq_our\"\"word_freq_over\"\"word_freq_remove\"\"word_freq_internet\" and \"word_freq_addresses\". "
   ]
  },
  {
   "cell_type": "markdown",
   "metadata": {},
   "source": [
    "- - -\n",
    "## 5. KERNELIZING SVM WITH THE GAUSSIAN RBF (30 pts)\n",
    "\n",
    "In this part of the asisgnment, you will be using SVMs to do non-linear classification. In particular, you will be using SVMs with Gaussian kernels on datasets that are not linearly separable. \n",
    "\n",
    "$\n",
    "    \\mathbf{K}_{RBF}(\\mathbf{x}^{(i)},\\mathbf{x}^{(j)}) = \\exp(-\\gamma ||\\mathbf{x}^{(i)} -\\mathbf{x}^{(j)}||^2).\n",
    "$\n",
    "\n",
    "Your task is to determine the best $C$ and $\\gamma$ hyperparameters to use, run SVM on the spam data and report the performance in metrics similar to section 2. By using the Gaussian kernel with the SVM, you will be able to learn a non-linear decision boundary that can perform reasonably well for this dataset. \n",
    "\n",
    "Finally, run the version of SVM with the best hyperparameters on the test set, and plot out the comparison in terms of accuracy, precision, and recall, and the ROC curve) to those of linear SVM in Section 3. How much your SVM classifier perform better? \n",
    "\n",
    "**Implementation Note:** When implementing cross validation to select the best C and $\\gamma$ parameter to use, you need to evaluate the error on the cross validation set. Recall that for classification, the error is defined as the fraction of the cross validation examples that were classified incorrectly.\n",
    "\n",
    "\n"
   ]
  },
  {
   "cell_type": "code",
   "execution_count": 33,
   "metadata": {},
   "outputs": [],
   "source": [
    "from sklearn.svm import SVC\n",
    "from sklearn.model_selection import cross_validate\n",
    "from sklearn import metrics\n",
    "from sklearn.metrics import precision_score, recall_score, accuracy_score\n",
    "from sklearn.svm import SVR\n",
    "from sklearn.model_selection import RandomizedSearchCV\n",
    "from scipy.stats import reciprocal, uniform\n",
    "from __future__ import print_function\n",
    "from sklearn.model_selection import GridSearchCV\n",
    "from sklearn.metrics import classification_report\n",
    "\n",
    "tuned_parameters = [{'kernel': ['rbf'], 'gamma': [1e-2,1e-3, 1e-4],\n",
    "                     'C': [1, 10, 100, 1000]}]\n",
    "scores = ['accuracy']\n"
   ]
  },
  {
   "cell_type": "code",
   "execution_count": 40,
   "metadata": {},
   "outputs": [
    {
     "name": "stdout",
     "output_type": "stream",
     "text": [
      "# Tuning hyper-parameters for accuracy\n",
      "\n",
      "Best parameters set found on development set:\n",
      "\n",
      "{'C': 1000, 'gamma': 0.001, 'kernel': 'rbf'}\n",
      "\n",
      "Grid scores on development set:\n",
      "\n",
      "0.929 (+/-0.022) for {'C': 1, 'gamma': 0.01, 'kernel': 'rbf'}\n",
      "0.900 (+/-0.018) for {'C': 1, 'gamma': 0.001, 'kernel': 'rbf'}\n",
      "0.797 (+/-0.011) for {'C': 1, 'gamma': 0.0001, 'kernel': 'rbf'}\n",
      "0.932 (+/-0.026) for {'C': 10, 'gamma': 0.01, 'kernel': 'rbf'}\n",
      "0.926 (+/-0.021) for {'C': 10, 'gamma': 0.001, 'kernel': 'rbf'}\n",
      "0.898 (+/-0.015) for {'C': 10, 'gamma': 0.0001, 'kernel': 'rbf'}\n",
      "0.925 (+/-0.009) for {'C': 100, 'gamma': 0.01, 'kernel': 'rbf'}\n",
      "0.935 (+/-0.026) for {'C': 100, 'gamma': 0.001, 'kernel': 'rbf'}\n",
      "0.922 (+/-0.025) for {'C': 100, 'gamma': 0.0001, 'kernel': 'rbf'}\n",
      "0.916 (+/-0.015) for {'C': 1000, 'gamma': 0.01, 'kernel': 'rbf'}\n",
      "0.935 (+/-0.024) for {'C': 1000, 'gamma': 0.001, 'kernel': 'rbf'}\n",
      "0.931 (+/-0.028) for {'C': 1000, 'gamma': 0.0001, 'kernel': 'rbf'}\n",
      "\n",
      "Detailed classification reiiport:\n",
      "\n",
      "The model is trained on the full development set.\n",
      "The scores are computed on the full evaluation set.\n",
      "\n",
      "             precision    recall  f1-score   support\n",
      "\n",
      "          0       0.77      0.99      0.86       531\n",
      "          1       0.97      0.59      0.74       390\n",
      "\n",
      "avg / total       0.86      0.82      0.81       921\n",
      "\n",
      "\n"
     ]
    }
   ],
   "source": [
    "print(\"# Tuning hyper-parameters for accuracy\")\n",
    "print()\n",
    "\n",
    "clf = GridSearchCV(SVC(), tuned_parameters, cv=5,\n",
    "                       scoring='accuracy')\n",
    "clf.fit(X_train_s, y_train)\n",
    "\n",
    "print(\"Best parameters set found on development set:\")\n",
    "print()\n",
    "print(clf.best_params_)\n",
    "print()\n",
    "print(\"Grid scores on development set:\")\n",
    "print()\n",
    "means = clf.cv_results_['mean_test_score']\n",
    "stds = clf.cv_results_['std_test_score']\n",
    "for mean, std, params in zip(means, stds, clf.cv_results_['params']):\n",
    "    print(\"%0.3f (+/-%0.03f) for %r\"\n",
    "              % (mean, std * 2, params))\n",
    "print()\n",
    "\n",
    "print(\"Detailed classification reiiport:\")\n",
    "print()\n",
    "print(\"The model is trained on the full development set.\")\n",
    "print(\"The scores are computed on the full evaluation set.\")\n",
    "print()\n",
    "y_true, y_pred = y_test, clf.predict(X_test_s)\n",
    "print(classification_report(y_true, y_pred))\n",
    "print()\n"
   ]
  },
  {
   "cell_type": "code",
   "execution_count": 36,
   "metadata": {},
   "outputs": [
    {
     "name": "stdout",
     "output_type": "stream",
     "text": [
      "0.9347826086956522\n"
     ]
    }
   ],
   "source": [
    "print(clf.best_score_)"
   ]
  },
  {
   "cell_type": "code",
   "execution_count": 43,
   "metadata": {},
   "outputs": [],
   "source": [
    "# use the best parameters\n",
    "best = SVC(kernel=\"rbf\", gamma=0.001, C=1000)\n",
    "best.fit(X_train_s, y_train)\n",
    "y_b_p = best.predict(X_test_s)"
   ]
  },
  {
   "cell_type": "code",
   "execution_count": 44,
   "metadata": {},
   "outputs": [
    {
     "name": "stdout",
     "output_type": "stream",
     "text": [
      "accuracy: 0.8208469055374593\n",
      "precision: 0.5923076923076923\n",
      "recall: 0.9746835443037974\n"
     ]
    }
   ],
   "source": [
    "#  accuracy, precision and recall\n",
    "print('accuracy:', accuracy_score(y_b_p, y_test))\n",
    "print('precision:', precision_score(y_b_p, y_test))\n",
    "print('recall:', recall_score(y_b_p, y_test))"
   ]
  },
  {
   "cell_type": "code",
   "execution_count": 45,
   "metadata": {},
   "outputs": [
    {
     "data": {
      "image/png": "[encoded data removed]",
      "text/plain": [
       "<Figure size 432x288 with 1 Axes>"
      ]
     },
     "metadata": {
      "needs_background": "light"
     },
     "output_type": "display_data"
    }
   ],
   "source": [
    "# plot ROC\n",
    "from sklearn.metrics import roc_curve, auc\n",
    "\n",
    "y_margins = best.decision_function(X_test_s)\n",
    "y_prob = (y_margins - y_margins.min())/(y_margins.max() - y_margins.min())\n",
    "\n",
    "fpr, tpr, thresholds = roc_curve(y_test, y_prob, pos_label=1)\n",
    "roc_auc = metrics.auc(fpr, tpr)\n",
    "\n",
    "plt.title('Receiver Operating Characteristic for rbf')\n",
    "plt.plot(fpr, tpr, 'b', label = 'AUC = %0.2f' % roc_auc)\n",
    "plt.legend(loc = 'lower right')\n",
    "plt.plot([0, 1], [0, 1],'r--')\n",
    "plt.xlim([0, 1])\n",
    "plt.ylim([0, 1])\n",
    "plt.ylabel('True Positive Rate')\n",
    "plt.xlabel('False Positive Rate')\n",
    "plt.show()\n"
   ]
  },
  {
   "cell_type": "markdown",
   "metadata": {},
   "source": [
    "- - - \n",
    "### NEED HELP?"
   ]
  },
  {
   "cell_type": "markdown",
   "metadata": {},
   "source": [
    "In case you get stuck in any step in the process, you may find some useful information from:\n",
    "\n",
    " * Consult my [lecture 6](https://drive.google.com/open?id=1CeBhepjDKBaFBq2BZq-zNQs-MC8ll7aL4qAF8TJ24FM) and [lecture 6b](https://drive.google.com/open?id=13BidUAs_c2QdZkf92axt2S748sbnbI9Hgxg-fzb-OuU) and/or the textbook\n",
    " * Talk to the TA, they are available and there to help you during [office hour](https://docs.google.com/document/d/15qB84xjaS-uRJmfKmmQuCz38bLMFaoqdbuRLoZEdOYI/edit#heading=h.72k1pvft525n)\n",
    " * Come talk to me or email me <nn4pj@virginia.edu> with subject starting \"CS6316 Assignment 2:...\".\n",
    "\n",
    "Best of luck and have fun!"
   ]
  },
  {
   "cell_type": "code",
   "execution_count": null,
   "metadata": {},
   "outputs": [],
   "source": []
  }
 ],
 "metadata": {
  "kernelspec": {
   "display_name": "Python 3",
   "language": "python",
   "name": "python3"
  },
  "language_info": {
   "codemirror_mode": {
    "name": "ipython",
    "version": 3
   },
   "file_extension": ".py",
   "mimetype": "text/x-python",
   "name": "python",
   "nbconvert_exporter": "python",
   "pygments_lexer": "ipython3",
   "version": "3.6.6"
  }
 },
 "nbformat": 4,
 "nbformat_minor": 2
}
